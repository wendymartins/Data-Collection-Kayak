{
 "cells": [
  {
   "attachments": {},
   "cell_type": "markdown",
   "metadata": {},
   "source": [
    "Summary\n",
    "# 1 - API: coordinates + weather data\n",
    "\n",
    "# 2 - Top-5 cities Map\n",
    "\n",
    "# 3 - Booking.com Scraping\n",
    "\n",
    "# 4 - Top-20 hotels Map\n",
    "\n",
    "# 5 - AWS S3 Bucket\n",
    "\n",
    "# 6 - AWS RDS Instance"
   ]
  },
  {
   "attachments": {},
   "cell_type": "markdown",
   "metadata": {},
   "source": [
    "# 1 - API: coordinates + weather data"
   ]
  },
  {
   "cell_type": "code",
   "execution_count": 1,
   "metadata": {},
   "outputs": [],
   "source": [
    "# Importing libraries\n",
    "import requests\n",
    "import pandas as pd\n",
    "import json\n",
    "import numpy as np"
   ]
  },
  {
   "cell_type": "code",
   "execution_count": 2,
   "metadata": {},
   "outputs": [],
   "source": [
    "# Creating list of cities\n",
    "list_cities = [\"Mont Saint Michel\", \"St Malo\", \"Bayeux\", \"Le Havre\", \"Rouen\", \"Paris\", \"Amiens\", \"Lille\", \"Strasbourg\", \"Chateau du Haut Koenigsbourg\", \"Colmar\", \n",
    "\"Eguisheim\", \"Besancon\", \"Dijon\", \"Annecy\", \"Grenoble\", \"Lyon\", \"Gorges du Verdon\", \"Bormes les Mimosas\", \"Cassis\", \"Marseille\", \"Aix en Provence\", \"Avignon\",\n",
    "\"Uzes\", \"Nimes\", \"Aigues Mortes\", \"Saintes Maries de la mer\", \"Collioure\", \"Carcassonne\", \"Ariege\", \"Toulouse\", \"Montauban\", \"Biarritz\", \"Bayonne\", \"La Rochelle\"]"
   ]
  },
  {
   "cell_type": "code",
   "execution_count": 4,
   "metadata": {},
   "outputs": [
    {
     "data": {
      "text/html": [
       "<div>\n",
       "<style scoped>\n",
       "    .dataframe tbody tr th:only-of-type {\n",
       "        vertical-align: middle;\n",
       "    }\n",
       "\n",
       "    .dataframe tbody tr th {\n",
       "        vertical-align: top;\n",
       "    }\n",
       "\n",
       "    .dataframe thead th {\n",
       "        text-align: right;\n",
       "    }\n",
       "</style>\n",
       "<table border=\"1\" class=\"dataframe\">\n",
       "  <thead>\n",
       "    <tr style=\"text-align: right;\">\n",
       "      <th></th>\n",
       "      <th>city_id</th>\n",
       "      <th>city</th>\n",
       "      <th>city_latitude</th>\n",
       "      <th>city_longitude</th>\n",
       "      <th>felt_temperature</th>\n",
       "      <th>rain_probability</th>\n",
       "    </tr>\n",
       "  </thead>\n",
       "  <tbody>\n",
       "    <tr>\n",
       "      <th>0</th>\n",
       "      <td>0</td>\n",
       "      <td>Aigues Mortes</td>\n",
       "      <td>43.565823</td>\n",
       "      <td>4.191284</td>\n",
       "      <td>9.524286</td>\n",
       "      <td>0.074286</td>\n",
       "    </tr>\n",
       "    <tr>\n",
       "      <th>1</th>\n",
       "      <td>1</td>\n",
       "      <td>Aix en Provence</td>\n",
       "      <td>43.529842</td>\n",
       "      <td>5.447474</td>\n",
       "      <td>9.855714</td>\n",
       "      <td>0.015714</td>\n",
       "    </tr>\n",
       "    <tr>\n",
       "      <th>2</th>\n",
       "      <td>2</td>\n",
       "      <td>Amiens</td>\n",
       "      <td>49.894171</td>\n",
       "      <td>2.295695</td>\n",
       "      <td>8.794286</td>\n",
       "      <td>0.001429</td>\n",
       "    </tr>\n",
       "    <tr>\n",
       "      <th>3</th>\n",
       "      <td>3</td>\n",
       "      <td>Annecy</td>\n",
       "      <td>45.899235</td>\n",
       "      <td>6.128885</td>\n",
       "      <td>7.994286</td>\n",
       "      <td>0.000000</td>\n",
       "    </tr>\n",
       "    <tr>\n",
       "      <th>4</th>\n",
       "      <td>4</td>\n",
       "      <td>Ariege</td>\n",
       "      <td>42.945537</td>\n",
       "      <td>1.406554</td>\n",
       "      <td>6.391429</td>\n",
       "      <td>0.160000</td>\n",
       "    </tr>\n",
       "    <tr>\n",
       "      <th>5</th>\n",
       "      <td>5</td>\n",
       "      <td>Avignon</td>\n",
       "      <td>43.949249</td>\n",
       "      <td>4.805901</td>\n",
       "      <td>9.071429</td>\n",
       "      <td>0.000000</td>\n",
       "    </tr>\n",
       "    <tr>\n",
       "      <th>6</th>\n",
       "      <td>6</td>\n",
       "      <td>Bayeux</td>\n",
       "      <td>49.276462</td>\n",
       "      <td>-0.702474</td>\n",
       "      <td>9.367143</td>\n",
       "      <td>0.207143</td>\n",
       "    </tr>\n",
       "    <tr>\n",
       "      <th>7</th>\n",
       "      <td>7</td>\n",
       "      <td>Bayonne</td>\n",
       "      <td>43.494514</td>\n",
       "      <td>-1.473666</td>\n",
       "      <td>10.731429</td>\n",
       "      <td>0.218571</td>\n",
       "    </tr>\n",
       "    <tr>\n",
       "      <th>8</th>\n",
       "      <td>8</td>\n",
       "      <td>Besancon</td>\n",
       "      <td>47.238022</td>\n",
       "      <td>6.024362</td>\n",
       "      <td>8.064286</td>\n",
       "      <td>0.000000</td>\n",
       "    </tr>\n",
       "    <tr>\n",
       "      <th>9</th>\n",
       "      <td>9</td>\n",
       "      <td>Biarritz</td>\n",
       "      <td>43.471144</td>\n",
       "      <td>-1.552727</td>\n",
       "      <td>9.920000</td>\n",
       "      <td>0.224286</td>\n",
       "    </tr>\n",
       "    <tr>\n",
       "      <th>10</th>\n",
       "      <td>10</td>\n",
       "      <td>Bormes les Mimosas</td>\n",
       "      <td>43.150697</td>\n",
       "      <td>6.341928</td>\n",
       "      <td>10.371429</td>\n",
       "      <td>0.000000</td>\n",
       "    </tr>\n",
       "    <tr>\n",
       "      <th>11</th>\n",
       "      <td>11</td>\n",
       "      <td>Carcassonne</td>\n",
       "      <td>43.213036</td>\n",
       "      <td>2.349107</td>\n",
       "      <td>9.690000</td>\n",
       "      <td>0.134286</td>\n",
       "    </tr>\n",
       "    <tr>\n",
       "      <th>12</th>\n",
       "      <td>12</td>\n",
       "      <td>Cassis</td>\n",
       "      <td>43.214036</td>\n",
       "      <td>5.539632</td>\n",
       "      <td>10.337143</td>\n",
       "      <td>0.034286</td>\n",
       "    </tr>\n",
       "    <tr>\n",
       "      <th>13</th>\n",
       "      <td>13</td>\n",
       "      <td>Chateau du Haut Koenigsbourg</td>\n",
       "      <td>48.249490</td>\n",
       "      <td>7.344296</td>\n",
       "      <td>5.667143</td>\n",
       "      <td>0.000000</td>\n",
       "    </tr>\n",
       "    <tr>\n",
       "      <th>14</th>\n",
       "      <td>14</td>\n",
       "      <td>Collioure</td>\n",
       "      <td>42.525050</td>\n",
       "      <td>3.083155</td>\n",
       "      <td>10.855714</td>\n",
       "      <td>0.142857</td>\n",
       "    </tr>\n",
       "    <tr>\n",
       "      <th>15</th>\n",
       "      <td>15</td>\n",
       "      <td>Colmar</td>\n",
       "      <td>48.077752</td>\n",
       "      <td>7.357964</td>\n",
       "      <td>7.828571</td>\n",
       "      <td>0.000000</td>\n",
       "    </tr>\n",
       "    <tr>\n",
       "      <th>16</th>\n",
       "      <td>16</td>\n",
       "      <td>Dijon</td>\n",
       "      <td>47.321581</td>\n",
       "      <td>5.041470</td>\n",
       "      <td>6.802857</td>\n",
       "      <td>0.000000</td>\n",
       "    </tr>\n",
       "    <tr>\n",
       "      <th>17</th>\n",
       "      <td>17</td>\n",
       "      <td>Eguisheim</td>\n",
       "      <td>48.044797</td>\n",
       "      <td>7.307962</td>\n",
       "      <td>8.094286</td>\n",
       "      <td>0.000000</td>\n",
       "    </tr>\n",
       "    <tr>\n",
       "      <th>18</th>\n",
       "      <td>18</td>\n",
       "      <td>Gorges du Verdon</td>\n",
       "      <td>43.749656</td>\n",
       "      <td>6.328562</td>\n",
       "      <td>8.218571</td>\n",
       "      <td>0.000000</td>\n",
       "    </tr>\n",
       "    <tr>\n",
       "      <th>19</th>\n",
       "      <td>19</td>\n",
       "      <td>Grenoble</td>\n",
       "      <td>45.187560</td>\n",
       "      <td>5.735782</td>\n",
       "      <td>10.958571</td>\n",
       "      <td>0.000000</td>\n",
       "    </tr>\n",
       "    <tr>\n",
       "      <th>20</th>\n",
       "      <td>20</td>\n",
       "      <td>La Rochelle</td>\n",
       "      <td>46.159113</td>\n",
       "      <td>-1.152043</td>\n",
       "      <td>7.297143</td>\n",
       "      <td>0.174286</td>\n",
       "    </tr>\n",
       "    <tr>\n",
       "      <th>21</th>\n",
       "      <td>21</td>\n",
       "      <td>Le Havre</td>\n",
       "      <td>49.493898</td>\n",
       "      <td>0.107973</td>\n",
       "      <td>8.198571</td>\n",
       "      <td>0.122857</td>\n",
       "    </tr>\n",
       "    <tr>\n",
       "      <th>22</th>\n",
       "      <td>22</td>\n",
       "      <td>Lille</td>\n",
       "      <td>50.636565</td>\n",
       "      <td>3.063528</td>\n",
       "      <td>8.457143</td>\n",
       "      <td>0.028571</td>\n",
       "    </tr>\n",
       "    <tr>\n",
       "      <th>23</th>\n",
       "      <td>23</td>\n",
       "      <td>Lyon</td>\n",
       "      <td>45.757814</td>\n",
       "      <td>4.832011</td>\n",
       "      <td>7.972857</td>\n",
       "      <td>0.000000</td>\n",
       "    </tr>\n",
       "    <tr>\n",
       "      <th>24</th>\n",
       "      <td>24</td>\n",
       "      <td>Marseille</td>\n",
       "      <td>43.296174</td>\n",
       "      <td>5.369953</td>\n",
       "      <td>9.885714</td>\n",
       "      <td>0.032857</td>\n",
       "    </tr>\n",
       "    <tr>\n",
       "      <th>25</th>\n",
       "      <td>25</td>\n",
       "      <td>Mont Saint Michel</td>\n",
       "      <td>48.635954</td>\n",
       "      <td>-1.511460</td>\n",
       "      <td>9.237143</td>\n",
       "      <td>0.158571</td>\n",
       "    </tr>\n",
       "    <tr>\n",
       "      <th>26</th>\n",
       "      <td>26</td>\n",
       "      <td>Montauban</td>\n",
       "      <td>44.017584</td>\n",
       "      <td>1.354999</td>\n",
       "      <td>9.727143</td>\n",
       "      <td>0.092857</td>\n",
       "    </tr>\n",
       "    <tr>\n",
       "      <th>27</th>\n",
       "      <td>27</td>\n",
       "      <td>Nimes</td>\n",
       "      <td>43.837425</td>\n",
       "      <td>4.360069</td>\n",
       "      <td>9.491429</td>\n",
       "      <td>0.034286</td>\n",
       "    </tr>\n",
       "    <tr>\n",
       "      <th>28</th>\n",
       "      <td>28</td>\n",
       "      <td>Paris</td>\n",
       "      <td>48.858890</td>\n",
       "      <td>2.320041</td>\n",
       "      <td>8.705714</td>\n",
       "      <td>0.032857</td>\n",
       "    </tr>\n",
       "    <tr>\n",
       "      <th>29</th>\n",
       "      <td>29</td>\n",
       "      <td>Rouen</td>\n",
       "      <td>49.440459</td>\n",
       "      <td>1.093966</td>\n",
       "      <td>9.410000</td>\n",
       "      <td>0.084286</td>\n",
       "    </tr>\n",
       "    <tr>\n",
       "      <th>30</th>\n",
       "      <td>30</td>\n",
       "      <td>Saintes Maries de la mer</td>\n",
       "      <td>43.452277</td>\n",
       "      <td>4.428717</td>\n",
       "      <td>9.070000</td>\n",
       "      <td>0.067143</td>\n",
       "    </tr>\n",
       "    <tr>\n",
       "      <th>31</th>\n",
       "      <td>31</td>\n",
       "      <td>St Malo</td>\n",
       "      <td>48.649518</td>\n",
       "      <td>-2.026041</td>\n",
       "      <td>7.368571</td>\n",
       "      <td>0.234286</td>\n",
       "    </tr>\n",
       "    <tr>\n",
       "      <th>32</th>\n",
       "      <td>32</td>\n",
       "      <td>Strasbourg</td>\n",
       "      <td>48.584614</td>\n",
       "      <td>7.750713</td>\n",
       "      <td>7.001429</td>\n",
       "      <td>0.000000</td>\n",
       "    </tr>\n",
       "    <tr>\n",
       "      <th>33</th>\n",
       "      <td>33</td>\n",
       "      <td>Toulouse</td>\n",
       "      <td>43.604462</td>\n",
       "      <td>1.444247</td>\n",
       "      <td>9.525714</td>\n",
       "      <td>0.098571</td>\n",
       "    </tr>\n",
       "    <tr>\n",
       "      <th>34</th>\n",
       "      <td>34</td>\n",
       "      <td>Uzes</td>\n",
       "      <td>44.012128</td>\n",
       "      <td>4.419672</td>\n",
       "      <td>8.931429</td>\n",
       "      <td>0.005714</td>\n",
       "    </tr>\n",
       "  </tbody>\n",
       "</table>\n",
       "</div>"
      ],
      "text/plain": [
       "    city_id                          city  city_latitude  city_longitude  \\\n",
       "0         0                 Aigues Mortes      43.565823        4.191284   \n",
       "1         1               Aix en Provence      43.529842        5.447474   \n",
       "2         2                        Amiens      49.894171        2.295695   \n",
       "3         3                        Annecy      45.899235        6.128885   \n",
       "4         4                        Ariege      42.945537        1.406554   \n",
       "5         5                       Avignon      43.949249        4.805901   \n",
       "6         6                        Bayeux      49.276462       -0.702474   \n",
       "7         7                       Bayonne      43.494514       -1.473666   \n",
       "8         8                      Besancon      47.238022        6.024362   \n",
       "9         9                      Biarritz      43.471144       -1.552727   \n",
       "10       10            Bormes les Mimosas      43.150697        6.341928   \n",
       "11       11                   Carcassonne      43.213036        2.349107   \n",
       "12       12                        Cassis      43.214036        5.539632   \n",
       "13       13  Chateau du Haut Koenigsbourg      48.249490        7.344296   \n",
       "14       14                     Collioure      42.525050        3.083155   \n",
       "15       15                        Colmar      48.077752        7.357964   \n",
       "16       16                         Dijon      47.321581        5.041470   \n",
       "17       17                     Eguisheim      48.044797        7.307962   \n",
       "18       18              Gorges du Verdon      43.749656        6.328562   \n",
       "19       19                      Grenoble      45.187560        5.735782   \n",
       "20       20                   La Rochelle      46.159113       -1.152043   \n",
       "21       21                      Le Havre      49.493898        0.107973   \n",
       "22       22                         Lille      50.636565        3.063528   \n",
       "23       23                          Lyon      45.757814        4.832011   \n",
       "24       24                     Marseille      43.296174        5.369953   \n",
       "25       25             Mont Saint Michel      48.635954       -1.511460   \n",
       "26       26                     Montauban      44.017584        1.354999   \n",
       "27       27                         Nimes      43.837425        4.360069   \n",
       "28       28                         Paris      48.858890        2.320041   \n",
       "29       29                         Rouen      49.440459        1.093966   \n",
       "30       30      Saintes Maries de la mer      43.452277        4.428717   \n",
       "31       31                       St Malo      48.649518       -2.026041   \n",
       "32       32                    Strasbourg      48.584614        7.750713   \n",
       "33       33                      Toulouse      43.604462        1.444247   \n",
       "34       34                          Uzes      44.012128        4.419672   \n",
       "\n",
       "    felt_temperature  rain_probability  \n",
       "0           9.524286          0.074286  \n",
       "1           9.855714          0.015714  \n",
       "2           8.794286          0.001429  \n",
       "3           7.994286          0.000000  \n",
       "4           6.391429          0.160000  \n",
       "5           9.071429          0.000000  \n",
       "6           9.367143          0.207143  \n",
       "7          10.731429          0.218571  \n",
       "8           8.064286          0.000000  \n",
       "9           9.920000          0.224286  \n",
       "10         10.371429          0.000000  \n",
       "11          9.690000          0.134286  \n",
       "12         10.337143          0.034286  \n",
       "13          5.667143          0.000000  \n",
       "14         10.855714          0.142857  \n",
       "15          7.828571          0.000000  \n",
       "16          6.802857          0.000000  \n",
       "17          8.094286          0.000000  \n",
       "18          8.218571          0.000000  \n",
       "19         10.958571          0.000000  \n",
       "20          7.297143          0.174286  \n",
       "21          8.198571          0.122857  \n",
       "22          8.457143          0.028571  \n",
       "23          7.972857          0.000000  \n",
       "24          9.885714          0.032857  \n",
       "25          9.237143          0.158571  \n",
       "26          9.727143          0.092857  \n",
       "27          9.491429          0.034286  \n",
       "28          8.705714          0.032857  \n",
       "29          9.410000          0.084286  \n",
       "30          9.070000          0.067143  \n",
       "31          7.368571          0.234286  \n",
       "32          7.001429          0.000000  \n",
       "33          9.525714          0.098571  \n",
       "34          8.931429          0.005714  "
      ]
     },
     "execution_count": 4,
     "metadata": {},
     "output_type": "execute_result"
    }
   ],
   "source": [
    "data = []\n",
    "\n",
    "API_KEY = 'XXXX'\n",
    "units = 'metric'\n",
    "exclusion ='current,minutely,hourly,alerts'\n",
    "\n",
    "for city in list_cities:\n",
    "    result = requests.get('https://nominatim.openstreetmap.org/search?', params={'format':'json','country' : 'France','q' : city,'limit':1})\n",
    "    city_latitude = result.json()[0]['lat']\n",
    "    city_longitude = result.json()[0]['lon']\n",
    "\n",
    "    for i in range(1,8):\n",
    "        result2 = requests.get(f\"https://api.openweathermap.org/data/2.5/onecall?lat={city_latitude}&lon={city_longitude}&exclude={exclusion}&units=metric&appid={API_KEY}\")\n",
    "        felt_temperature = result2.json()['daily'][i]['feels_like']['day']\n",
    "        rain_probability = result2.json()['daily'][i]['pop']\n",
    "        day = i\n",
    "        data.append([city, city_latitude,city_longitude, felt_temperature, rain_probability, day])\n",
    "\n",
    "df = pd.DataFrame(data=data, columns=('city', 'city_latitude','city_longitude', 'felt_temperature', 'rain_probability', 'day'))\n",
    "df = df.groupby(by='city').agg({'city_latitude': 'max', 'city_longitude' : 'max', 'felt_temperature' : 'mean','rain_probability' : 'mean'}).reset_index()\n",
    "df.insert(0, \"city_id\", df.index)\n",
    "df[\"city_latitude\"], df[\"city_longitude\"] = df[\"city_latitude\"].astype(float), df[\"city_longitude\"].astype(float)\n",
    "df"
   ]
  },
  {
   "cell_type": "code",
   "execution_count": 5,
   "metadata": {},
   "outputs": [
    {
     "data": {
      "text/html": [
       "<div>\n",
       "<style scoped>\n",
       "    .dataframe tbody tr th:only-of-type {\n",
       "        vertical-align: middle;\n",
       "    }\n",
       "\n",
       "    .dataframe tbody tr th {\n",
       "        vertical-align: top;\n",
       "    }\n",
       "\n",
       "    .dataframe thead th {\n",
       "        text-align: right;\n",
       "    }\n",
       "</style>\n",
       "<table border=\"1\" class=\"dataframe\">\n",
       "  <thead>\n",
       "    <tr style=\"text-align: right;\">\n",
       "      <th></th>\n",
       "      <th>city_id</th>\n",
       "      <th>city</th>\n",
       "      <th>city_latitude</th>\n",
       "      <th>city_longitude</th>\n",
       "      <th>felt_temperature</th>\n",
       "      <th>rain_probability</th>\n",
       "    </tr>\n",
       "  </thead>\n",
       "  <tbody>\n",
       "    <tr>\n",
       "      <th>0</th>\n",
       "      <td>19</td>\n",
       "      <td>Grenoble</td>\n",
       "      <td>45.187560</td>\n",
       "      <td>5.735782</td>\n",
       "      <td>10.958571</td>\n",
       "      <td>0.000000</td>\n",
       "    </tr>\n",
       "    <tr>\n",
       "      <th>1</th>\n",
       "      <td>10</td>\n",
       "      <td>Bormes les Mimosas</td>\n",
       "      <td>43.150697</td>\n",
       "      <td>6.341928</td>\n",
       "      <td>10.371429</td>\n",
       "      <td>0.000000</td>\n",
       "    </tr>\n",
       "    <tr>\n",
       "      <th>2</th>\n",
       "      <td>5</td>\n",
       "      <td>Avignon</td>\n",
       "      <td>43.949249</td>\n",
       "      <td>4.805901</td>\n",
       "      <td>9.071429</td>\n",
       "      <td>0.000000</td>\n",
       "    </tr>\n",
       "    <tr>\n",
       "      <th>3</th>\n",
       "      <td>18</td>\n",
       "      <td>Gorges du Verdon</td>\n",
       "      <td>43.749656</td>\n",
       "      <td>6.328562</td>\n",
       "      <td>8.218571</td>\n",
       "      <td>0.000000</td>\n",
       "    </tr>\n",
       "    <tr>\n",
       "      <th>4</th>\n",
       "      <td>17</td>\n",
       "      <td>Eguisheim</td>\n",
       "      <td>48.044797</td>\n",
       "      <td>7.307962</td>\n",
       "      <td>8.094286</td>\n",
       "      <td>0.000000</td>\n",
       "    </tr>\n",
       "    <tr>\n",
       "      <th>5</th>\n",
       "      <td>8</td>\n",
       "      <td>Besancon</td>\n",
       "      <td>47.238022</td>\n",
       "      <td>6.024362</td>\n",
       "      <td>8.064286</td>\n",
       "      <td>0.000000</td>\n",
       "    </tr>\n",
       "    <tr>\n",
       "      <th>6</th>\n",
       "      <td>3</td>\n",
       "      <td>Annecy</td>\n",
       "      <td>45.899235</td>\n",
       "      <td>6.128885</td>\n",
       "      <td>7.994286</td>\n",
       "      <td>0.000000</td>\n",
       "    </tr>\n",
       "    <tr>\n",
       "      <th>7</th>\n",
       "      <td>23</td>\n",
       "      <td>Lyon</td>\n",
       "      <td>45.757814</td>\n",
       "      <td>4.832011</td>\n",
       "      <td>7.972857</td>\n",
       "      <td>0.000000</td>\n",
       "    </tr>\n",
       "    <tr>\n",
       "      <th>8</th>\n",
       "      <td>15</td>\n",
       "      <td>Colmar</td>\n",
       "      <td>48.077752</td>\n",
       "      <td>7.357964</td>\n",
       "      <td>7.828571</td>\n",
       "      <td>0.000000</td>\n",
       "    </tr>\n",
       "    <tr>\n",
       "      <th>9</th>\n",
       "      <td>32</td>\n",
       "      <td>Strasbourg</td>\n",
       "      <td>48.584614</td>\n",
       "      <td>7.750713</td>\n",
       "      <td>7.001429</td>\n",
       "      <td>0.000000</td>\n",
       "    </tr>\n",
       "    <tr>\n",
       "      <th>10</th>\n",
       "      <td>16</td>\n",
       "      <td>Dijon</td>\n",
       "      <td>47.321581</td>\n",
       "      <td>5.041470</td>\n",
       "      <td>6.802857</td>\n",
       "      <td>0.000000</td>\n",
       "    </tr>\n",
       "    <tr>\n",
       "      <th>11</th>\n",
       "      <td>13</td>\n",
       "      <td>Chateau du Haut Koenigsbourg</td>\n",
       "      <td>48.249490</td>\n",
       "      <td>7.344296</td>\n",
       "      <td>5.667143</td>\n",
       "      <td>0.000000</td>\n",
       "    </tr>\n",
       "    <tr>\n",
       "      <th>12</th>\n",
       "      <td>2</td>\n",
       "      <td>Amiens</td>\n",
       "      <td>49.894171</td>\n",
       "      <td>2.295695</td>\n",
       "      <td>8.794286</td>\n",
       "      <td>0.001429</td>\n",
       "    </tr>\n",
       "    <tr>\n",
       "      <th>13</th>\n",
       "      <td>34</td>\n",
       "      <td>Uzes</td>\n",
       "      <td>44.012128</td>\n",
       "      <td>4.419672</td>\n",
       "      <td>8.931429</td>\n",
       "      <td>0.005714</td>\n",
       "    </tr>\n",
       "    <tr>\n",
       "      <th>14</th>\n",
       "      <td>1</td>\n",
       "      <td>Aix en Provence</td>\n",
       "      <td>43.529842</td>\n",
       "      <td>5.447474</td>\n",
       "      <td>9.855714</td>\n",
       "      <td>0.015714</td>\n",
       "    </tr>\n",
       "    <tr>\n",
       "      <th>15</th>\n",
       "      <td>22</td>\n",
       "      <td>Lille</td>\n",
       "      <td>50.636565</td>\n",
       "      <td>3.063528</td>\n",
       "      <td>8.457143</td>\n",
       "      <td>0.028571</td>\n",
       "    </tr>\n",
       "    <tr>\n",
       "      <th>16</th>\n",
       "      <td>24</td>\n",
       "      <td>Marseille</td>\n",
       "      <td>43.296174</td>\n",
       "      <td>5.369953</td>\n",
       "      <td>9.885714</td>\n",
       "      <td>0.032857</td>\n",
       "    </tr>\n",
       "    <tr>\n",
       "      <th>17</th>\n",
       "      <td>28</td>\n",
       "      <td>Paris</td>\n",
       "      <td>48.858890</td>\n",
       "      <td>2.320041</td>\n",
       "      <td>8.705714</td>\n",
       "      <td>0.032857</td>\n",
       "    </tr>\n",
       "    <tr>\n",
       "      <th>18</th>\n",
       "      <td>12</td>\n",
       "      <td>Cassis</td>\n",
       "      <td>43.214036</td>\n",
       "      <td>5.539632</td>\n",
       "      <td>10.337143</td>\n",
       "      <td>0.034286</td>\n",
       "    </tr>\n",
       "    <tr>\n",
       "      <th>19</th>\n",
       "      <td>27</td>\n",
       "      <td>Nimes</td>\n",
       "      <td>43.837425</td>\n",
       "      <td>4.360069</td>\n",
       "      <td>9.491429</td>\n",
       "      <td>0.034286</td>\n",
       "    </tr>\n",
       "    <tr>\n",
       "      <th>20</th>\n",
       "      <td>30</td>\n",
       "      <td>Saintes Maries de la mer</td>\n",
       "      <td>43.452277</td>\n",
       "      <td>4.428717</td>\n",
       "      <td>9.070000</td>\n",
       "      <td>0.067143</td>\n",
       "    </tr>\n",
       "    <tr>\n",
       "      <th>21</th>\n",
       "      <td>0</td>\n",
       "      <td>Aigues Mortes</td>\n",
       "      <td>43.565823</td>\n",
       "      <td>4.191284</td>\n",
       "      <td>9.524286</td>\n",
       "      <td>0.074286</td>\n",
       "    </tr>\n",
       "    <tr>\n",
       "      <th>22</th>\n",
       "      <td>29</td>\n",
       "      <td>Rouen</td>\n",
       "      <td>49.440459</td>\n",
       "      <td>1.093966</td>\n",
       "      <td>9.410000</td>\n",
       "      <td>0.084286</td>\n",
       "    </tr>\n",
       "    <tr>\n",
       "      <th>23</th>\n",
       "      <td>26</td>\n",
       "      <td>Montauban</td>\n",
       "      <td>44.017584</td>\n",
       "      <td>1.354999</td>\n",
       "      <td>9.727143</td>\n",
       "      <td>0.092857</td>\n",
       "    </tr>\n",
       "    <tr>\n",
       "      <th>24</th>\n",
       "      <td>33</td>\n",
       "      <td>Toulouse</td>\n",
       "      <td>43.604462</td>\n",
       "      <td>1.444247</td>\n",
       "      <td>9.525714</td>\n",
       "      <td>0.098571</td>\n",
       "    </tr>\n",
       "    <tr>\n",
       "      <th>25</th>\n",
       "      <td>21</td>\n",
       "      <td>Le Havre</td>\n",
       "      <td>49.493898</td>\n",
       "      <td>0.107973</td>\n",
       "      <td>8.198571</td>\n",
       "      <td>0.122857</td>\n",
       "    </tr>\n",
       "    <tr>\n",
       "      <th>26</th>\n",
       "      <td>11</td>\n",
       "      <td>Carcassonne</td>\n",
       "      <td>43.213036</td>\n",
       "      <td>2.349107</td>\n",
       "      <td>9.690000</td>\n",
       "      <td>0.134286</td>\n",
       "    </tr>\n",
       "    <tr>\n",
       "      <th>27</th>\n",
       "      <td>14</td>\n",
       "      <td>Collioure</td>\n",
       "      <td>42.525050</td>\n",
       "      <td>3.083155</td>\n",
       "      <td>10.855714</td>\n",
       "      <td>0.142857</td>\n",
       "    </tr>\n",
       "    <tr>\n",
       "      <th>28</th>\n",
       "      <td>25</td>\n",
       "      <td>Mont Saint Michel</td>\n",
       "      <td>48.635954</td>\n",
       "      <td>-1.511460</td>\n",
       "      <td>9.237143</td>\n",
       "      <td>0.158571</td>\n",
       "    </tr>\n",
       "    <tr>\n",
       "      <th>29</th>\n",
       "      <td>4</td>\n",
       "      <td>Ariege</td>\n",
       "      <td>42.945537</td>\n",
       "      <td>1.406554</td>\n",
       "      <td>6.391429</td>\n",
       "      <td>0.160000</td>\n",
       "    </tr>\n",
       "    <tr>\n",
       "      <th>30</th>\n",
       "      <td>20</td>\n",
       "      <td>La Rochelle</td>\n",
       "      <td>46.159113</td>\n",
       "      <td>-1.152043</td>\n",
       "      <td>7.297143</td>\n",
       "      <td>0.174286</td>\n",
       "    </tr>\n",
       "    <tr>\n",
       "      <th>31</th>\n",
       "      <td>6</td>\n",
       "      <td>Bayeux</td>\n",
       "      <td>49.276462</td>\n",
       "      <td>-0.702474</td>\n",
       "      <td>9.367143</td>\n",
       "      <td>0.207143</td>\n",
       "    </tr>\n",
       "    <tr>\n",
       "      <th>32</th>\n",
       "      <td>7</td>\n",
       "      <td>Bayonne</td>\n",
       "      <td>43.494514</td>\n",
       "      <td>-1.473666</td>\n",
       "      <td>10.731429</td>\n",
       "      <td>0.218571</td>\n",
       "    </tr>\n",
       "    <tr>\n",
       "      <th>33</th>\n",
       "      <td>9</td>\n",
       "      <td>Biarritz</td>\n",
       "      <td>43.471144</td>\n",
       "      <td>-1.552727</td>\n",
       "      <td>9.920000</td>\n",
       "      <td>0.224286</td>\n",
       "    </tr>\n",
       "    <tr>\n",
       "      <th>34</th>\n",
       "      <td>31</td>\n",
       "      <td>St Malo</td>\n",
       "      <td>48.649518</td>\n",
       "      <td>-2.026041</td>\n",
       "      <td>7.368571</td>\n",
       "      <td>0.234286</td>\n",
       "    </tr>\n",
       "  </tbody>\n",
       "</table>\n",
       "</div>"
      ],
      "text/plain": [
       "    city_id                          city  city_latitude  city_longitude  \\\n",
       "0        19                      Grenoble      45.187560        5.735782   \n",
       "1        10            Bormes les Mimosas      43.150697        6.341928   \n",
       "2         5                       Avignon      43.949249        4.805901   \n",
       "3        18              Gorges du Verdon      43.749656        6.328562   \n",
       "4        17                     Eguisheim      48.044797        7.307962   \n",
       "5         8                      Besancon      47.238022        6.024362   \n",
       "6         3                        Annecy      45.899235        6.128885   \n",
       "7        23                          Lyon      45.757814        4.832011   \n",
       "8        15                        Colmar      48.077752        7.357964   \n",
       "9        32                    Strasbourg      48.584614        7.750713   \n",
       "10       16                         Dijon      47.321581        5.041470   \n",
       "11       13  Chateau du Haut Koenigsbourg      48.249490        7.344296   \n",
       "12        2                        Amiens      49.894171        2.295695   \n",
       "13       34                          Uzes      44.012128        4.419672   \n",
       "14        1               Aix en Provence      43.529842        5.447474   \n",
       "15       22                         Lille      50.636565        3.063528   \n",
       "16       24                     Marseille      43.296174        5.369953   \n",
       "17       28                         Paris      48.858890        2.320041   \n",
       "18       12                        Cassis      43.214036        5.539632   \n",
       "19       27                         Nimes      43.837425        4.360069   \n",
       "20       30      Saintes Maries de la mer      43.452277        4.428717   \n",
       "21        0                 Aigues Mortes      43.565823        4.191284   \n",
       "22       29                         Rouen      49.440459        1.093966   \n",
       "23       26                     Montauban      44.017584        1.354999   \n",
       "24       33                      Toulouse      43.604462        1.444247   \n",
       "25       21                      Le Havre      49.493898        0.107973   \n",
       "26       11                   Carcassonne      43.213036        2.349107   \n",
       "27       14                     Collioure      42.525050        3.083155   \n",
       "28       25             Mont Saint Michel      48.635954       -1.511460   \n",
       "29        4                        Ariege      42.945537        1.406554   \n",
       "30       20                   La Rochelle      46.159113       -1.152043   \n",
       "31        6                        Bayeux      49.276462       -0.702474   \n",
       "32        7                       Bayonne      43.494514       -1.473666   \n",
       "33        9                      Biarritz      43.471144       -1.552727   \n",
       "34       31                       St Malo      48.649518       -2.026041   \n",
       "\n",
       "    felt_temperature  rain_probability  \n",
       "0          10.958571          0.000000  \n",
       "1          10.371429          0.000000  \n",
       "2           9.071429          0.000000  \n",
       "3           8.218571          0.000000  \n",
       "4           8.094286          0.000000  \n",
       "5           8.064286          0.000000  \n",
       "6           7.994286          0.000000  \n",
       "7           7.972857          0.000000  \n",
       "8           7.828571          0.000000  \n",
       "9           7.001429          0.000000  \n",
       "10          6.802857          0.000000  \n",
       "11          5.667143          0.000000  \n",
       "12          8.794286          0.001429  \n",
       "13          8.931429          0.005714  \n",
       "14          9.855714          0.015714  \n",
       "15          8.457143          0.028571  \n",
       "16          9.885714          0.032857  \n",
       "17          8.705714          0.032857  \n",
       "18         10.337143          0.034286  \n",
       "19          9.491429          0.034286  \n",
       "20          9.070000          0.067143  \n",
       "21          9.524286          0.074286  \n",
       "22          9.410000          0.084286  \n",
       "23          9.727143          0.092857  \n",
       "24          9.525714          0.098571  \n",
       "25          8.198571          0.122857  \n",
       "26          9.690000          0.134286  \n",
       "27         10.855714          0.142857  \n",
       "28          9.237143          0.158571  \n",
       "29          6.391429          0.160000  \n",
       "30          7.297143          0.174286  \n",
       "31          9.367143          0.207143  \n",
       "32         10.731429          0.218571  \n",
       "33          9.920000          0.224286  \n",
       "34          7.368571          0.234286  "
      ]
     },
     "execution_count": 5,
     "metadata": {},
     "output_type": "execute_result"
    }
   ],
   "source": [
    "# Sorting by the lowest probability of rain, and then by the higher temperature (in case mean rain probability was equal for 2 of the best 5 cities, but not the case here)\n",
    "# I do not like walking under the rain, while if it is cold, you just need multiple layers of clothing!\n",
    "df_meteo = df.sort_values(by=['rain_probability','felt_temperature'], ascending=[True, False])\n",
    "df_meteo = df_meteo.reset_index(drop=True)\n",
    "df_meteo"
   ]
  },
  {
   "cell_type": "code",
   "execution_count": 6,
   "metadata": {},
   "outputs": [],
   "source": [
    "# Replacing accents and specific characters to make sure we get correspondance for further merge\n",
    "df_meteo[\"city\"] = [x.lower() for x in df_meteo[\"city\"]]\n",
    "df_meteo[\"city\"] = [x.replace(\"  \", \" \") for x in df_meteo[\"city\"]]\n",
    "df_meteo[\"city\"] = [x.replace(\"-\", \" \") for x in df_meteo[\"city\"]]\n",
    "df_meteo[\"city\"] = [x.replace(\"ç\", \"c\") for x in df_meteo[\"city\"]]\n",
    "df_meteo[\"city\"] = [x.replace(\"œ\", \"oe\") for x in df_meteo[\"city\"]]\n",
    "df_meteo[\"city\"] = [x.replace(\"saint\", \"st\") for x in df_meteo[\"city\"]]\n",
    "df_meteo[\"city\"] = [x.replace(\"é\", \"e\") for x in df_meteo[\"city\"]]\n",
    "df_meteo[\"city\"] = [x.replace(\"è\", \"e\") for x in df_meteo[\"city\"]]\n",
    "df_meteo[\"city\"] = [x.replace(\"ê\", \"e\") for x in df_meteo[\"city\"]]\n",
    "df_meteo[\"city\"] = [x.replace(\"â\", \"a\") for x in df_meteo[\"city\"]]\n",
    "df_meteo[\"city\"] = [x.replace(\"î\", \"i\") for x in df_meteo[\"city\"]]\n",
    "df_meteo[\"city\"] = [x.replace(\"le \", \"\") for x in df_meteo[\"city\"]]"
   ]
  },
  {
   "cell_type": "code",
   "execution_count": 7,
   "metadata": {},
   "outputs": [],
   "source": [
    "df_meteo.to_csv('df_meteo.csv')"
   ]
  },
  {
   "attachments": {},
   "cell_type": "markdown",
   "metadata": {},
   "source": [
    "# 2 Top-5 cities Map"
   ]
  },
  {
   "cell_type": "code",
   "execution_count": 8,
   "metadata": {},
   "outputs": [],
   "source": [
    "# Importing library to make plots\n",
    "import plotly.express as px"
   ]
  },
  {
   "cell_type": "code",
   "execution_count": 9,
   "metadata": {},
   "outputs": [
    {
     "data": {
      "application/vnd.plotly.v1+json": {
       "config": {
        "plotlyServerURL": "https://plot.ly"
       },
       "data": [
        {
         "hovertemplate": "<b>%{hovertext}</b><br><br>felt_temperature=%{marker.color}<br>city_latitude=%{lat}<br>city_longitude=%{lon}<extra></extra>",
         "hovertext": [
          "grenoble",
          "bormes les mimosas",
          "avignon",
          "gorges du verdon",
          "eguisheim"
         ],
         "lat": [
          45.1875602,
          43.1506968,
          43.9492493,
          43.7496562,
          48.0447968
         ],
         "legendgroup": "",
         "lon": [
          5.7357819,
          6.3419285,
          4.8059012,
          6.3285616,
          7.3079618
         ],
         "marker": {
          "color": [
           10.95857142857143,
           10.37142857142857,
           9.071428571428571,
           8.218571428571428,
           8.094285714285714
          ],
          "coloraxis": "coloraxis",
          "size": [
           10.95857142857143,
           10.37142857142857,
           9.071428571428571,
           8.218571428571428,
           8.094285714285714
          ],
          "sizemode": "area",
          "sizeref": 0.012176190476190478
         },
         "mode": "markers",
         "name": "",
         "showlegend": false,
         "subplot": "mapbox",
         "type": "scattermapbox"
        }
       ],
       "layout": {
        "coloraxis": {
         "colorbar": {
          "title": {
           "text": "felt_temperature"
          }
         },
         "colorscale": [
          [
           0,
           "rgb(12,51,131)"
          ],
          [
           0.25,
           "rgb(10,136,186)"
          ],
          [
           0.5,
           "rgb(242,211,56)"
          ],
          [
           0.75,
           "rgb(242,143,56)"
          ],
          [
           1,
           "rgb(217,30,30)"
          ]
         ]
        },
        "height": 800,
        "legend": {
         "itemsizing": "constant",
         "tracegroupgap": 0
        },
        "mapbox": {
         "center": {
          "lat": 47,
          "lon": 2
         },
         "domain": {
          "x": [
           0,
           1
          ],
          "y": [
           0,
           1
          ]
         },
         "style": "carto-darkmatter",
         "zoom": 5
        },
        "margin": {
         "b": 0,
         "l": 0,
         "r": 0,
         "t": 80
        },
        "template": {
         "data": {
          "bar": [
           {
            "error_x": {
             "color": "#f2f5fa"
            },
            "error_y": {
             "color": "#f2f5fa"
            },
            "marker": {
             "line": {
              "color": "rgb(17,17,17)",
              "width": 0.5
             },
             "pattern": {
              "fillmode": "overlay",
              "size": 10,
              "solidity": 0.2
             }
            },
            "type": "bar"
           }
          ],
          "barpolar": [
           {
            "marker": {
             "line": {
              "color": "rgb(17,17,17)",
              "width": 0.5
             },
             "pattern": {
              "fillmode": "overlay",
              "size": 10,
              "solidity": 0.2
             }
            },
            "type": "barpolar"
           }
          ],
          "carpet": [
           {
            "aaxis": {
             "endlinecolor": "#A2B1C6",
             "gridcolor": "#506784",
             "linecolor": "#506784",
             "minorgridcolor": "#506784",
             "startlinecolor": "#A2B1C6"
            },
            "baxis": {
             "endlinecolor": "#A2B1C6",
             "gridcolor": "#506784",
             "linecolor": "#506784",
             "minorgridcolor": "#506784",
             "startlinecolor": "#A2B1C6"
            },
            "type": "carpet"
           }
          ],
          "choropleth": [
           {
            "colorbar": {
             "outlinewidth": 0,
             "ticks": ""
            },
            "type": "choropleth"
           }
          ],
          "contour": [
           {
            "colorbar": {
             "outlinewidth": 0,
             "ticks": ""
            },
            "colorscale": [
             [
              0,
              "#0d0887"
             ],
             [
              0.1111111111111111,
              "#46039f"
             ],
             [
              0.2222222222222222,
              "#7201a8"
             ],
             [
              0.3333333333333333,
              "#9c179e"
             ],
             [
              0.4444444444444444,
              "#bd3786"
             ],
             [
              0.5555555555555556,
              "#d8576b"
             ],
             [
              0.6666666666666666,
              "#ed7953"
             ],
             [
              0.7777777777777778,
              "#fb9f3a"
             ],
             [
              0.8888888888888888,
              "#fdca26"
             ],
             [
              1,
              "#f0f921"
             ]
            ],
            "type": "contour"
           }
          ],
          "contourcarpet": [
           {
            "colorbar": {
             "outlinewidth": 0,
             "ticks": ""
            },
            "type": "contourcarpet"
           }
          ],
          "heatmap": [
           {
            "colorbar": {
             "outlinewidth": 0,
             "ticks": ""
            },
            "colorscale": [
             [
              0,
              "#0d0887"
             ],
             [
              0.1111111111111111,
              "#46039f"
             ],
             [
              0.2222222222222222,
              "#7201a8"
             ],
             [
              0.3333333333333333,
              "#9c179e"
             ],
             [
              0.4444444444444444,
              "#bd3786"
             ],
             [
              0.5555555555555556,
              "#d8576b"
             ],
             [
              0.6666666666666666,
              "#ed7953"
             ],
             [
              0.7777777777777778,
              "#fb9f3a"
             ],
             [
              0.8888888888888888,
              "#fdca26"
             ],
             [
              1,
              "#f0f921"
             ]
            ],
            "type": "heatmap"
           }
          ],
          "heatmapgl": [
           {
            "colorbar": {
             "outlinewidth": 0,
             "ticks": ""
            },
            "colorscale": [
             [
              0,
              "#0d0887"
             ],
             [
              0.1111111111111111,
              "#46039f"
             ],
             [
              0.2222222222222222,
              "#7201a8"
             ],
             [
              0.3333333333333333,
              "#9c179e"
             ],
             [
              0.4444444444444444,
              "#bd3786"
             ],
             [
              0.5555555555555556,
              "#d8576b"
             ],
             [
              0.6666666666666666,
              "#ed7953"
             ],
             [
              0.7777777777777778,
              "#fb9f3a"
             ],
             [
              0.8888888888888888,
              "#fdca26"
             ],
             [
              1,
              "#f0f921"
             ]
            ],
            "type": "heatmapgl"
           }
          ],
          "histogram": [
           {
            "marker": {
             "pattern": {
              "fillmode": "overlay",
              "size": 10,
              "solidity": 0.2
             }
            },
            "type": "histogram"
           }
          ],
          "histogram2d": [
           {
            "colorbar": {
             "outlinewidth": 0,
             "ticks": ""
            },
            "colorscale": [
             [
              0,
              "#0d0887"
             ],
             [
              0.1111111111111111,
              "#46039f"
             ],
             [
              0.2222222222222222,
              "#7201a8"
             ],
             [
              0.3333333333333333,
              "#9c179e"
             ],
             [
              0.4444444444444444,
              "#bd3786"
             ],
             [
              0.5555555555555556,
              "#d8576b"
             ],
             [
              0.6666666666666666,
              "#ed7953"
             ],
             [
              0.7777777777777778,
              "#fb9f3a"
             ],
             [
              0.8888888888888888,
              "#fdca26"
             ],
             [
              1,
              "#f0f921"
             ]
            ],
            "type": "histogram2d"
           }
          ],
          "histogram2dcontour": [
           {
            "colorbar": {
             "outlinewidth": 0,
             "ticks": ""
            },
            "colorscale": [
             [
              0,
              "#0d0887"
             ],
             [
              0.1111111111111111,
              "#46039f"
             ],
             [
              0.2222222222222222,
              "#7201a8"
             ],
             [
              0.3333333333333333,
              "#9c179e"
             ],
             [
              0.4444444444444444,
              "#bd3786"
             ],
             [
              0.5555555555555556,
              "#d8576b"
             ],
             [
              0.6666666666666666,
              "#ed7953"
             ],
             [
              0.7777777777777778,
              "#fb9f3a"
             ],
             [
              0.8888888888888888,
              "#fdca26"
             ],
             [
              1,
              "#f0f921"
             ]
            ],
            "type": "histogram2dcontour"
           }
          ],
          "mesh3d": [
           {
            "colorbar": {
             "outlinewidth": 0,
             "ticks": ""
            },
            "type": "mesh3d"
           }
          ],
          "parcoords": [
           {
            "line": {
             "colorbar": {
              "outlinewidth": 0,
              "ticks": ""
             }
            },
            "type": "parcoords"
           }
          ],
          "pie": [
           {
            "automargin": true,
            "type": "pie"
           }
          ],
          "scatter": [
           {
            "marker": {
             "line": {
              "color": "#283442"
             }
            },
            "type": "scatter"
           }
          ],
          "scatter3d": [
           {
            "line": {
             "colorbar": {
              "outlinewidth": 0,
              "ticks": ""
             }
            },
            "marker": {
             "colorbar": {
              "outlinewidth": 0,
              "ticks": ""
             }
            },
            "type": "scatter3d"
           }
          ],
          "scattercarpet": [
           {
            "marker": {
             "colorbar": {
              "outlinewidth": 0,
              "ticks": ""
             }
            },
            "type": "scattercarpet"
           }
          ],
          "scattergeo": [
           {
            "marker": {
             "colorbar": {
              "outlinewidth": 0,
              "ticks": ""
             }
            },
            "type": "scattergeo"
           }
          ],
          "scattergl": [
           {
            "marker": {
             "line": {
              "color": "#283442"
             }
            },
            "type": "scattergl"
           }
          ],
          "scattermapbox": [
           {
            "marker": {
             "colorbar": {
              "outlinewidth": 0,
              "ticks": ""
             }
            },
            "type": "scattermapbox"
           }
          ],
          "scatterpolar": [
           {
            "marker": {
             "colorbar": {
              "outlinewidth": 0,
              "ticks": ""
             }
            },
            "type": "scatterpolar"
           }
          ],
          "scatterpolargl": [
           {
            "marker": {
             "colorbar": {
              "outlinewidth": 0,
              "ticks": ""
             }
            },
            "type": "scatterpolargl"
           }
          ],
          "scatterternary": [
           {
            "marker": {
             "colorbar": {
              "outlinewidth": 0,
              "ticks": ""
             }
            },
            "type": "scatterternary"
           }
          ],
          "surface": [
           {
            "colorbar": {
             "outlinewidth": 0,
             "ticks": ""
            },
            "colorscale": [
             [
              0,
              "#0d0887"
             ],
             [
              0.1111111111111111,
              "#46039f"
             ],
             [
              0.2222222222222222,
              "#7201a8"
             ],
             [
              0.3333333333333333,
              "#9c179e"
             ],
             [
              0.4444444444444444,
              "#bd3786"
             ],
             [
              0.5555555555555556,
              "#d8576b"
             ],
             [
              0.6666666666666666,
              "#ed7953"
             ],
             [
              0.7777777777777778,
              "#fb9f3a"
             ],
             [
              0.8888888888888888,
              "#fdca26"
             ],
             [
              1,
              "#f0f921"
             ]
            ],
            "type": "surface"
           }
          ],
          "table": [
           {
            "cells": {
             "fill": {
              "color": "#506784"
             },
             "line": {
              "color": "rgb(17,17,17)"
             }
            },
            "header": {
             "fill": {
              "color": "#2a3f5f"
             },
             "line": {
              "color": "rgb(17,17,17)"
             }
            },
            "type": "table"
           }
          ]
         },
         "layout": {
          "annotationdefaults": {
           "arrowcolor": "#f2f5fa",
           "arrowhead": 0,
           "arrowwidth": 1
          },
          "autotypenumbers": "strict",
          "coloraxis": {
           "colorbar": {
            "outlinewidth": 0,
            "ticks": ""
           }
          },
          "colorscale": {
           "diverging": [
            [
             0,
             "#8e0152"
            ],
            [
             0.1,
             "#c51b7d"
            ],
            [
             0.2,
             "#de77ae"
            ],
            [
             0.3,
             "#f1b6da"
            ],
            [
             0.4,
             "#fde0ef"
            ],
            [
             0.5,
             "#f7f7f7"
            ],
            [
             0.6,
             "#e6f5d0"
            ],
            [
             0.7,
             "#b8e186"
            ],
            [
             0.8,
             "#7fbc41"
            ],
            [
             0.9,
             "#4d9221"
            ],
            [
             1,
             "#276419"
            ]
           ],
           "sequential": [
            [
             0,
             "#0d0887"
            ],
            [
             0.1111111111111111,
             "#46039f"
            ],
            [
             0.2222222222222222,
             "#7201a8"
            ],
            [
             0.3333333333333333,
             "#9c179e"
            ],
            [
             0.4444444444444444,
             "#bd3786"
            ],
            [
             0.5555555555555556,
             "#d8576b"
            ],
            [
             0.6666666666666666,
             "#ed7953"
            ],
            [
             0.7777777777777778,
             "#fb9f3a"
            ],
            [
             0.8888888888888888,
             "#fdca26"
            ],
            [
             1,
             "#f0f921"
            ]
           ],
           "sequentialminus": [
            [
             0,
             "#0d0887"
            ],
            [
             0.1111111111111111,
             "#46039f"
            ],
            [
             0.2222222222222222,
             "#7201a8"
            ],
            [
             0.3333333333333333,
             "#9c179e"
            ],
            [
             0.4444444444444444,
             "#bd3786"
            ],
            [
             0.5555555555555556,
             "#d8576b"
            ],
            [
             0.6666666666666666,
             "#ed7953"
            ],
            [
             0.7777777777777778,
             "#fb9f3a"
            ],
            [
             0.8888888888888888,
             "#fdca26"
            ],
            [
             1,
             "#f0f921"
            ]
           ]
          },
          "colorway": [
           "#636efa",
           "#EF553B",
           "#00cc96",
           "#ab63fa",
           "#FFA15A",
           "#19d3f3",
           "#FF6692",
           "#B6E880",
           "#FF97FF",
           "#FECB52"
          ],
          "font": {
           "color": "#f2f5fa"
          },
          "geo": {
           "bgcolor": "rgb(17,17,17)",
           "lakecolor": "rgb(17,17,17)",
           "landcolor": "rgb(17,17,17)",
           "showlakes": true,
           "showland": true,
           "subunitcolor": "#506784"
          },
          "hoverlabel": {
           "align": "left"
          },
          "hovermode": "closest",
          "mapbox": {
           "style": "dark"
          },
          "paper_bgcolor": "rgb(17,17,17)",
          "plot_bgcolor": "rgb(17,17,17)",
          "polar": {
           "angularaxis": {
            "gridcolor": "#506784",
            "linecolor": "#506784",
            "ticks": ""
           },
           "bgcolor": "rgb(17,17,17)",
           "radialaxis": {
            "gridcolor": "#506784",
            "linecolor": "#506784",
            "ticks": ""
           }
          },
          "scene": {
           "xaxis": {
            "backgroundcolor": "rgb(17,17,17)",
            "gridcolor": "#506784",
            "gridwidth": 2,
            "linecolor": "#506784",
            "showbackground": true,
            "ticks": "",
            "zerolinecolor": "#C8D4E3"
           },
           "yaxis": {
            "backgroundcolor": "rgb(17,17,17)",
            "gridcolor": "#506784",
            "gridwidth": 2,
            "linecolor": "#506784",
            "showbackground": true,
            "ticks": "",
            "zerolinecolor": "#C8D4E3"
           },
           "zaxis": {
            "backgroundcolor": "rgb(17,17,17)",
            "gridcolor": "#506784",
            "gridwidth": 2,
            "linecolor": "#506784",
            "showbackground": true,
            "ticks": "",
            "zerolinecolor": "#C8D4E3"
           }
          },
          "shapedefaults": {
           "line": {
            "color": "#f2f5fa"
           }
          },
          "sliderdefaults": {
           "bgcolor": "#C8D4E3",
           "bordercolor": "rgb(17,17,17)",
           "borderwidth": 1,
           "tickwidth": 0
          },
          "ternary": {
           "aaxis": {
            "gridcolor": "#506784",
            "linecolor": "#506784",
            "ticks": ""
           },
           "baxis": {
            "gridcolor": "#506784",
            "linecolor": "#506784",
            "ticks": ""
           },
           "bgcolor": "rgb(17,17,17)",
           "caxis": {
            "gridcolor": "#506784",
            "linecolor": "#506784",
            "ticks": ""
           }
          },
          "title": {
           "x": 0.05
          },
          "updatemenudefaults": {
           "bgcolor": "#506784",
           "borderwidth": 0
          },
          "xaxis": {
           "automargin": true,
           "gridcolor": "#283442",
           "linecolor": "#506784",
           "ticks": "",
           "title": {
            "standoff": 15
           },
           "zerolinecolor": "#283442",
           "zerolinewidth": 2
          },
          "yaxis": {
           "automargin": true,
           "gridcolor": "#283442",
           "linecolor": "#506784",
           "ticks": "",
           "title": {
            "standoff": 15
           },
           "zerolinecolor": "#283442",
           "zerolinewidth": 2
          }
         }
        },
        "title": {
         "text": "Weather map: Top-5 cities for the next 7 days",
         "x": 0.5
        },
        "width": 1000
       }
      }
     },
     "metadata": {},
     "output_type": "display_data"
    }
   ],
   "source": [
    "# Creating a new dataframe with only the Top-5 cities for the next 7 days and displaying a map\n",
    "df_meteo_map = df_meteo.head(5)\n",
    "\n",
    "fig = px.scatter_mapbox(df_meteo_map,\n",
    "                        lat = 'city_latitude',\n",
    "                        lon = 'city_longitude',\n",
    "                        color = 'felt_temperature',\n",
    "                        color_continuous_scale = px.colors.diverging.Portland,\n",
    "                        size = 'felt_temperature',\n",
    "                        size_max = 30,\n",
    "                        hover_name = 'city')\n",
    "\n",
    "fig.update_layout(title='Weather map: Top-5 cities for the next 7 days',\n",
    "                  title_x = 0.5,\n",
    "                  width = 1000,\n",
    "                  height = 800,\n",
    "                  template = 'plotly_dark',\n",
    "                  mapbox = {\"style\": \"carto-darkmatter\", \"center\": {\"lon\": 2, \"lat\" : 47}, \"zoom\": 5},\n",
    "                  margin = {\"l\": 0, \"r\": 0, \"b\": 0, \"t\": 80})\n",
    "\n",
    "fig.show()"
   ]
  },
  {
   "attachments": {},
   "cell_type": "markdown",
   "metadata": {},
   "source": [
    "# 3 - Booking.com Scraping"
   ]
  },
  {
   "cell_type": "code",
   "execution_count": null,
   "metadata": {},
   "outputs": [],
   "source": [
    "import os \n",
    "import logging\n",
    "import scrapy\n",
    "from scrapy.crawler import CrawlerProcess\n",
    "import pandas as pd\n",
    "\n",
    "# Creating the spider\n",
    "class BookingSpider(scrapy.Spider):\n",
    "    name = \"booking\"\n",
    "    start_urls = ['https://www.booking.com/']\n",
    "\n",
    "    # Parse function for form request: getting data and looping over cities from csv file\n",
    "    def parse(self, response):\n",
    "\n",
    "        df_meteo = pd.read_csv(\"df_meteo.csv\")\n",
    "        city_list = [x for x in df_meteo[\"city\"]]\n",
    "\n",
    "        for city in city_list:\n",
    "            yield scrapy.FormRequest.from_response(        \n",
    "                    response,\n",
    "                    formdata={'ss': city},\n",
    "                    callback=self.after_search\n",
    "                    )\n",
    "\n",
    "\n",
    "    # Callback used after requesting cities, to get specific data about hotels\n",
    "    def after_search(self, response):\n",
    "        blocks = response.xpath('//*[@id=\"search_results_table\"]/div[2]/div/div/div/div[3]/div')\n",
    "        for block in blocks:\n",
    "            dico = {\n",
    "                    \"city\" : block.xpath('//*[@id=\"right\"]/div[1]/div/div/div/h1/text()').get().split(\":\")[0]\n",
    "                    ,\n",
    "                    \"hotel_name\" : block.xpath('div[1]/div[2]/div/div/div/div[1]/div/div[1]/div/h3/a/div[1]/text()').get()\n",
    "                    ,   \n",
    "                    \"score\" : block.xpath('div[1]/div[2]/div/div/div/div[2]/div[1]/div/a/span/div/div[1]/text()').get()\n",
    "                    ,\n",
    "                    \"description\" : block.xpath('div[1]/div[2]/div/div/div/div[1]/div/div[4]/text()').get()\n",
    "                    ,\n",
    "                    \"description2\" : block.xpath('div[1]/div[2]/div/div/div/div[1]/div/div[3]/text()').get()\n",
    "                    ,      \n",
    "                    \"url\" : block.xpath('div[1]/div[2]/div/div/div/div[1]/div/div[1]/div/h3/a[contains(@href,\"com\")][1]/@href').get()\n",
    "                    }\n",
    "\n",
    "            # Initiating method to get GPS coordinates from hotels pages\n",
    "            try: \n",
    "                yield response.follow(url = block.xpath('div[1]/div[2]/div/div/div/div[1]/div/div[1]/div/h3/a[contains(@href,\"com\")][1]/@href').get(),\n",
    "                                    callback = self.coordinates, \n",
    "                                    cb_kwargs = {'dico': dico}\n",
    "                                    ) \n",
    "            except: \n",
    "                yield dico\n",
    "                print('error')\n",
    "    \n",
    "    # Method to add coordinates as new key on the dictionary \n",
    "    def coordinates(self, response, dico):\n",
    "        try:\n",
    "            coord = response.css('a.jq_tooltip.loc_block_link_underline_fix.bui-link.show_on_map_hp_link.show_map_hp_link').attrib['data-atlas-latlng']\n",
    "            coord = coord.split(',')\n",
    "            dico['latitude'] = float(coord[0])\n",
    "            dico['longitude'] = float(coord[1])\n",
    "\n",
    "            yield dico\n",
    "        except:\n",
    "            yield dico\n",
    "            print('error')\n",
    "\n",
    "\n",
    "# Name of the file where the results will be saved\n",
    "filename = \"booking-data.json\"\n",
    "\n",
    "# Deleting previous file if one with same name already existed (Scrapy would concatenate the last and new results otherwise)\n",
    "if filename in os.listdir('requestfolder'):\n",
    "        os.remove('requestfolder/' + filename)\n",
    "\n",
    "\n",
    "# Declaring the crawling process\n",
    "process = CrawlerProcess(settings = {\n",
    "    # Simulating a browser on an OS\n",
    "    'USER_AGENT': 'Chrome/97.0',\n",
    "    # Displaying regular errors\n",
    "    'LOG_LEVEL': logging.INFO,\n",
    "    # Simulating human behavior\n",
    "    \"AUTOTHROTTLE_ENABLED\": True,\n",
    "    # Specifying where the file will be stored and its format\n",
    "    'FEEDS': {\n",
    "        'requestfolder/' + filename : {\"format\": \"json\"},\n",
    "    }\n",
    "})\n",
    "\n",
    "\n",
    "# Starting the crawling process\n",
    "process.crawl(BookingSpider)\n",
    "process.start()"
   ]
  },
  {
   "attachments": {},
   "cell_type": "markdown",
   "metadata": {},
   "source": [
    "# 4 - Top-20 hotels Map"
   ]
  },
  {
   "cell_type": "code",
   "execution_count": 10,
   "metadata": {},
   "outputs": [],
   "source": [
    "# Importing libraries for data manipulaion\n",
    "import pandas as pd\n",
    "import json"
   ]
  },
  {
   "cell_type": "code",
   "execution_count": 11,
   "metadata": {},
   "outputs": [],
   "source": [
    "# Importing dataset and keeping only valid lines (dropping empty lines from the scrap)\n",
    "df_booking = pd.read_json(\"booking-data.json\")\n",
    "df_booking = df_booking[~df_booking[\"hotel_name\"].isna()]"
   ]
  },
  {
   "cell_type": "code",
   "execution_count": 12,
   "metadata": {},
   "outputs": [
    {
     "data": {
      "text/html": [
       "<div>\n",
       "<style scoped>\n",
       "    .dataframe tbody tr th:only-of-type {\n",
       "        vertical-align: middle;\n",
       "    }\n",
       "\n",
       "    .dataframe tbody tr th {\n",
       "        vertical-align: top;\n",
       "    }\n",
       "\n",
       "    .dataframe thead th {\n",
       "        text-align: right;\n",
       "    }\n",
       "</style>\n",
       "<table border=\"1\" class=\"dataframe\">\n",
       "  <thead>\n",
       "    <tr style=\"text-align: right;\">\n",
       "      <th></th>\n",
       "      <th>city</th>\n",
       "      <th>hotel_name</th>\n",
       "      <th>score</th>\n",
       "      <th>url</th>\n",
       "      <th>latitude</th>\n",
       "      <th>longitude</th>\n",
       "      <th>long_description</th>\n",
       "      <th>short_description</th>\n",
       "    </tr>\n",
       "  </thead>\n",
       "  <tbody>\n",
       "    <tr>\n",
       "      <th>238</th>\n",
       "      <td>Bayonne</td>\n",
       "      <td>Vue rivière super centre Bayonne, design 60 mt</td>\n",
       "      <td>9.0</td>\n",
       "      <td>https://www.booking.com/hotel/fr/vue-riviere-s...</td>\n",
       "      <td>43.492213</td>\n",
       "      <td>-1.473737</td>\n",
       "      <td>Vue rivière super centre Bayonne, design 60 mt...</td>\n",
       "      <td>Vue rivière super centre</td>\n",
       "    </tr>\n",
       "    <tr>\n",
       "      <th>239</th>\n",
       "      <td>Le Mont Saint Michel</td>\n",
       "      <td>Le Marquis De La Guintre</td>\n",
       "      <td>8.8</td>\n",
       "      <td>https://www.booking.com/hotel/fr/le-marquis-de...</td>\n",
       "      <td>48.624865</td>\n",
       "      <td>-1.445342</td>\n",
       "      <td>Located in Courtils, Le Marquis De La Guintre ...</td>\n",
       "      <td>Located in Courtils, Le M</td>\n",
       "    </tr>\n",
       "    <tr>\n",
       "      <th>240</th>\n",
       "      <td>Grenoble</td>\n",
       "      <td>Hotel Mercure Grenoble Centre Président</td>\n",
       "      <td>7.6</td>\n",
       "      <td>https://www.booking.com/hotel/fr/grand-mercure...</td>\n",
       "      <td>45.178494</td>\n",
       "      <td>5.720298</td>\n",
       "      <td>Hôtel Mercure Grenoble Président is located 10...</td>\n",
       "      <td>Hôtel Mercure Grenoble Pr</td>\n",
       "    </tr>\n",
       "    <tr>\n",
       "      <th>241</th>\n",
       "      <td>Cassis</td>\n",
       "      <td>LA FALAISE PARADIS Vue mer 180°</td>\n",
       "      <td>7.7</td>\n",
       "      <td>https://www.booking.com/hotel/fr/la-falaise-pa...</td>\n",
       "      <td>43.215295</td>\n",
       "      <td>5.546231</td>\n",
       "      <td>Offering barbecue facilities and sea view, LA ...</td>\n",
       "      <td>Offering barbecue facilit</td>\n",
       "    </tr>\n",
       "    <tr>\n",
       "      <th>242</th>\n",
       "      <td>Bormes-les-Mimosas</td>\n",
       "      <td>SELECT'SO HOME - Résidence Le Poséidon - Mazet...</td>\n",
       "      <td>8.0</td>\n",
       "      <td>https://www.booking.com/hotel/fr/poseidon-maze...</td>\n",
       "      <td>43.124150</td>\n",
       "      <td>6.351192</td>\n",
       "      <td>SELECT'SO HOME - Résidence Le Poséidon - Mazet...</td>\n",
       "      <td>SELECT'SO HOME - Résidenc</td>\n",
       "    </tr>\n",
       "    <tr>\n",
       "      <th>...</th>\n",
       "      <td>...</td>\n",
       "      <td>...</td>\n",
       "      <td>...</td>\n",
       "      <td>...</td>\n",
       "      <td>...</td>\n",
       "      <td>...</td>\n",
       "      <td>...</td>\n",
       "      <td>...</td>\n",
       "    </tr>\n",
       "    <tr>\n",
       "      <th>1354</th>\n",
       "      <td>La Rochelle</td>\n",
       "      <td>La Mariennée</td>\n",
       "      <td>7.9</td>\n",
       "      <td>https://www.booking.com/hotel/fr/la-mariennee....</td>\n",
       "      <td>46.149583</td>\n",
       "      <td>-1.144550</td>\n",
       "      <td>La Mariennée is set in La Rochelle, 2.1 km fro...</td>\n",
       "      <td>La Mariennée is set in La</td>\n",
       "    </tr>\n",
       "    <tr>\n",
       "      <th>1355</th>\n",
       "      <td>La Rochelle</td>\n",
       "      <td>La Belle Amarre</td>\n",
       "      <td>9.6</td>\n",
       "      <td>https://www.booking.com/hotel/fr/la-belle-amar...</td>\n",
       "      <td>46.158662</td>\n",
       "      <td>-1.155056</td>\n",
       "      <td>Located in La Rochelle and with Concurrence re...</td>\n",
       "      <td>Located in La Rochelle an</td>\n",
       "    </tr>\n",
       "    <tr>\n",
       "      <th>1356</th>\n",
       "      <td>La Rochelle</td>\n",
       "      <td>Hôtel La Monnaie Art &amp; Spa</td>\n",
       "      <td>8.6</td>\n",
       "      <td>https://www.booking.com/hotel/fr/de-la-monnaie...</td>\n",
       "      <td>46.156301</td>\n",
       "      <td>-1.158108</td>\n",
       "      <td>Ideally set in the historic La Rochelle, this ...</td>\n",
       "      <td>Ideally set in the histor</td>\n",
       "    </tr>\n",
       "    <tr>\n",
       "      <th>1357</th>\n",
       "      <td>La Rochelle</td>\n",
       "      <td>Hôtel de l'Océan</td>\n",
       "      <td>8.1</td>\n",
       "      <td>https://www.booking.com/hotel/fr/de-l-ocean-la...</td>\n",
       "      <td>46.157020</td>\n",
       "      <td>-1.154128</td>\n",
       "      <td>Built in 1646, Hotel de L’Ocean is located on ...</td>\n",
       "      <td>Built in 1646, Hotel de L</td>\n",
       "    </tr>\n",
       "    <tr>\n",
       "      <th>1358</th>\n",
       "      <td>La Rochelle</td>\n",
       "      <td>L'Atelier</td>\n",
       "      <td>8.1</td>\n",
       "      <td>https://www.booking.com/hotel/fr/roseo.en-gb.h...</td>\n",
       "      <td>46.162177</td>\n",
       "      <td>-1.148085</td>\n",
       "      <td>L'Atelier is an apartment located a 7-minute w...</td>\n",
       "      <td>L'Atelier is an apartment</td>\n",
       "    </tr>\n",
       "  </tbody>\n",
       "</table>\n",
       "<p>875 rows × 8 columns</p>\n",
       "</div>"
      ],
      "text/plain": [
       "                      city                                         hotel_name  \\\n",
       "238                Bayonne     Vue rivière super centre Bayonne, design 60 mt   \n",
       "239   Le Mont Saint Michel                           Le Marquis De La Guintre   \n",
       "240               Grenoble            Hotel Mercure Grenoble Centre Président   \n",
       "241                 Cassis                    LA FALAISE PARADIS Vue mer 180°   \n",
       "242     Bormes-les-Mimosas  SELECT'SO HOME - Résidence Le Poséidon - Mazet...   \n",
       "...                    ...                                                ...   \n",
       "1354           La Rochelle                                       La Mariennée   \n",
       "1355           La Rochelle                                    La Belle Amarre   \n",
       "1356           La Rochelle                         Hôtel La Monnaie Art & Spa   \n",
       "1357           La Rochelle                                   Hôtel de l'Océan   \n",
       "1358           La Rochelle                                          L'Atelier   \n",
       "\n",
       "      score                                                url   latitude  \\\n",
       "238     9.0  https://www.booking.com/hotel/fr/vue-riviere-s...  43.492213   \n",
       "239     8.8  https://www.booking.com/hotel/fr/le-marquis-de...  48.624865   \n",
       "240     7.6  https://www.booking.com/hotel/fr/grand-mercure...  45.178494   \n",
       "241     7.7  https://www.booking.com/hotel/fr/la-falaise-pa...  43.215295   \n",
       "242     8.0  https://www.booking.com/hotel/fr/poseidon-maze...  43.124150   \n",
       "...     ...                                                ...        ...   \n",
       "1354    7.9  https://www.booking.com/hotel/fr/la-mariennee....  46.149583   \n",
       "1355    9.6  https://www.booking.com/hotel/fr/la-belle-amar...  46.158662   \n",
       "1356    8.6  https://www.booking.com/hotel/fr/de-la-monnaie...  46.156301   \n",
       "1357    8.1  https://www.booking.com/hotel/fr/de-l-ocean-la...  46.157020   \n",
       "1358    8.1  https://www.booking.com/hotel/fr/roseo.en-gb.h...  46.162177   \n",
       "\n",
       "      longitude                                   long_description  \\\n",
       "238   -1.473737  Vue rivière super centre Bayonne, design 60 mt...   \n",
       "239   -1.445342  Located in Courtils, Le Marquis De La Guintre ...   \n",
       "240    5.720298  Hôtel Mercure Grenoble Président is located 10...   \n",
       "241    5.546231  Offering barbecue facilities and sea view, LA ...   \n",
       "242    6.351192  SELECT'SO HOME - Résidence Le Poséidon - Mazet...   \n",
       "...         ...                                                ...   \n",
       "1354  -1.144550  La Mariennée is set in La Rochelle, 2.1 km fro...   \n",
       "1355  -1.155056  Located in La Rochelle and with Concurrence re...   \n",
       "1356  -1.158108  Ideally set in the historic La Rochelle, this ...   \n",
       "1357  -1.154128  Built in 1646, Hotel de L’Ocean is located on ...   \n",
       "1358  -1.148085  L'Atelier is an apartment located a 7-minute w...   \n",
       "\n",
       "              short_description  \n",
       "238   Vue rivière super centre   \n",
       "239   Located in Courtils, Le M  \n",
       "240   Hôtel Mercure Grenoble Pr  \n",
       "241   Offering barbecue facilit  \n",
       "242   SELECT'SO HOME - Résidenc  \n",
       "...                         ...  \n",
       "1354  La Mariennée is set in La  \n",
       "1355  Located in La Rochelle an  \n",
       "1356  Ideally set in the histor  \n",
       "1357  Built in 1646, Hotel de L  \n",
       "1358  L'Atelier is an apartment  \n",
       "\n",
       "[875 rows x 8 columns]"
      ]
     },
     "execution_count": 12,
     "metadata": {},
     "output_type": "execute_result"
    }
   ],
   "source": [
    "# Creating a \"long_description\" and a \"short_description\" columns \n",
    "df_booking['long_description'] = df_booking['description'].str.cat(df_booking['description2'], na_rep=\"\")\n",
    "df_booking['short_description'] = df_booking['long_description'].str[:25]\n",
    "useless_cols = [\"description\", \"description2\"]\n",
    "df_booking.drop(useless_cols, axis=1, inplace=True)\n",
    "df_booking"
   ]
  },
  {
   "cell_type": "code",
   "execution_count": 13,
   "metadata": {},
   "outputs": [],
   "source": [
    "# Replacing accents and specific characters to make sure we get correspondance when merging df_meteo and df_booking\n",
    "df_booking[\"city\"] = [x.lower() for x in df_booking[\"city\"]]\n",
    "df_booking[\"city\"] = [x.replace(\"  \", \" \") for x in df_booking[\"city\"]]\n",
    "df_booking[\"city\"] = [x.replace(\"-\", \" \") for x in df_booking[\"city\"]]\n",
    "df_booking[\"city\"] = [x.replace(\"ç\", \"c\") for x in df_booking[\"city\"]]\n",
    "df_booking[\"city\"] = [x.replace(\"œ\", \"oe\") for x in df_booking[\"city\"]]\n",
    "df_booking[\"city\"] = [x.replace(\"saint\", \"st\") for x in df_booking[\"city\"]]\n",
    "df_booking[\"city\"] = [x.replace(\"é\", \"e\") for x in df_booking[\"city\"]]\n",
    "df_booking[\"city\"] = [x.replace(\"è\", \"e\") for x in df_booking[\"city\"]]\n",
    "df_booking[\"city\"] = [x.replace(\"ê\", \"e\") for x in df_booking[\"city\"]]\n",
    "df_booking[\"city\"] = [x.replace(\"â\", \"a\") for x in df_booking[\"city\"]]\n",
    "df_booking[\"city\"] = [x.replace(\"î\", \"i\") for x in df_booking[\"city\"]]\n",
    "df_booking[\"city\"] = [x.replace(\"î\", \"i\") for x in df_booking[\"city\"]]\n",
    "df_booking[\"city\"] = [x.replace(\"le \", \"\") for x in df_booking[\"city\"]]"
   ]
  },
  {
   "cell_type": "code",
   "execution_count": 14,
   "metadata": {},
   "outputs": [],
   "source": [
    "# Merging both dataframes\n",
    "dataset = df_meteo.merge(df_booking, on=\"city\", how=\"inner\")"
   ]
  },
  {
   "cell_type": "code",
   "execution_count": 15,
   "metadata": {},
   "outputs": [],
   "source": [
    "# Exporting this global dataset as csv file for further use if needed\n",
    "dataset.to_csv(\"dataset-kayak.csv\")"
   ]
  },
  {
   "cell_type": "code",
   "execution_count": 16,
   "metadata": {},
   "outputs": [
    {
     "data": {
      "text/html": [
       "<div>\n",
       "<style scoped>\n",
       "    .dataframe tbody tr th:only-of-type {\n",
       "        vertical-align: middle;\n",
       "    }\n",
       "\n",
       "    .dataframe tbody tr th {\n",
       "        vertical-align: top;\n",
       "    }\n",
       "\n",
       "    .dataframe thead th {\n",
       "        text-align: right;\n",
       "    }\n",
       "</style>\n",
       "<table border=\"1\" class=\"dataframe\">\n",
       "  <thead>\n",
       "    <tr style=\"text-align: right;\">\n",
       "      <th></th>\n",
       "      <th>city</th>\n",
       "      <th>hotel_name</th>\n",
       "      <th>score</th>\n",
       "      <th>url</th>\n",
       "      <th>latitude</th>\n",
       "      <th>longitude</th>\n",
       "      <th>long_description</th>\n",
       "      <th>short_description</th>\n",
       "    </tr>\n",
       "  </thead>\n",
       "  <tbody>\n",
       "    <tr>\n",
       "      <th>0</th>\n",
       "      <td>avignon</td>\n",
       "      <td>Le Clos Saluces</td>\n",
       "      <td>9.9</td>\n",
       "      <td>https://www.booking.com/hotel/fr/le-clos-saluc...</td>\n",
       "      <td>43.950193</td>\n",
       "      <td>4.810586</td>\n",
       "      <td>Offering a flowered furnished garden and a pat...</td>\n",
       "      <td>Offering a flowered furni</td>\n",
       "    </tr>\n",
       "    <tr>\n",
       "      <th>1</th>\n",
       "      <td>avignon</td>\n",
       "      <td>Face au Palais</td>\n",
       "      <td>9.8</td>\n",
       "      <td>https://www.booking.com/hotel/fr/le-jardin-du-...</td>\n",
       "      <td>43.950951</td>\n",
       "      <td>4.806201</td>\n",
       "      <td>Face au Palais is located across the Papal Pal...</td>\n",
       "      <td>Face au Palais is located</td>\n",
       "    </tr>\n",
       "    <tr>\n",
       "      <th>2</th>\n",
       "      <td>avignon</td>\n",
       "      <td>Cosy and large flat in the hypercentre of Avig...</td>\n",
       "      <td>9.8</td>\n",
       "      <td>https://www.booking.com/hotel/fr/cosy-and-larg...</td>\n",
       "      <td>43.949938</td>\n",
       "      <td>4.806563</td>\n",
       "      <td>Located in Avignon and only 200 metres from Pa...</td>\n",
       "      <td>Located in Avignon and on</td>\n",
       "    </tr>\n",
       "    <tr>\n",
       "      <th>3</th>\n",
       "      <td>avignon</td>\n",
       "      <td>La Maison Grivolas Appartements et Maison d'hôtes</td>\n",
       "      <td>9.7</td>\n",
       "      <td>https://www.booking.com/hotel/fr/la-maison-gri...</td>\n",
       "      <td>43.951836</td>\n",
       "      <td>4.812205</td>\n",
       "      <td>500 metres from Papal Palace, La Maison Grivol...</td>\n",
       "      <td>500 metres from Papal Pal</td>\n",
       "    </tr>\n",
       "    <tr>\n",
       "      <th>4</th>\n",
       "      <td>avignon</td>\n",
       "      <td>Les Jardins de Baracane</td>\n",
       "      <td>9.7</td>\n",
       "      <td>https://www.booking.com/hotel/fr/les-jardins-d...</td>\n",
       "      <td>43.944609</td>\n",
       "      <td>4.809282</td>\n",
       "      <td>A 17th century property offering an outdoor po...</td>\n",
       "      <td>A 17th century property o</td>\n",
       "    </tr>\n",
       "    <tr>\n",
       "      <th>...</th>\n",
       "      <td>...</td>\n",
       "      <td>...</td>\n",
       "      <td>...</td>\n",
       "      <td>...</td>\n",
       "      <td>...</td>\n",
       "      <td>...</td>\n",
       "      <td>...</td>\n",
       "      <td>...</td>\n",
       "    </tr>\n",
       "    <tr>\n",
       "      <th>95</th>\n",
       "      <td>grenoble</td>\n",
       "      <td>Hotel Mercure Grenoble Centre Président</td>\n",
       "      <td>7.6</td>\n",
       "      <td>https://www.booking.com/hotel/fr/grand-mercure...</td>\n",
       "      <td>45.178494</td>\n",
       "      <td>5.720298</td>\n",
       "      <td>Hôtel Mercure Grenoble Président is located 10...</td>\n",
       "      <td>Hôtel Mercure Grenoble Pr</td>\n",
       "    </tr>\n",
       "    <tr>\n",
       "      <th>96</th>\n",
       "      <td>grenoble</td>\n",
       "      <td>Kyriad Grenoble Centre</td>\n",
       "      <td>7.6</td>\n",
       "      <td>https://www.booking.com/hotel/fr/qualityhotelg...</td>\n",
       "      <td>45.168200</td>\n",
       "      <td>5.711995</td>\n",
       "      <td>Located 200 metres from Stade Lesdiguières, Ky...</td>\n",
       "      <td>Located 200 metres from S</td>\n",
       "    </tr>\n",
       "    <tr>\n",
       "      <th>97</th>\n",
       "      <td>grenoble</td>\n",
       "      <td>Séjours &amp; Affaires Grenoble Marie Curie</td>\n",
       "      <td>7.6</td>\n",
       "      <td>https://www.booking.com/hotel/fr/grenoble-mari...</td>\n",
       "      <td>45.194396</td>\n",
       "      <td>5.710593</td>\n",
       "      <td>This residence is a 5-minute walk from Grenobl...</td>\n",
       "      <td>This residence is a 5-min</td>\n",
       "    </tr>\n",
       "    <tr>\n",
       "      <th>98</th>\n",
       "      <td>grenoble</td>\n",
       "      <td>Hôtel d’Angleterre Grenoble Hyper-Centre</td>\n",
       "      <td>7.6</td>\n",
       "      <td>https://www.booking.com/hotel/fr/tiangleterre....</td>\n",
       "      <td>45.189204</td>\n",
       "      <td>5.725372</td>\n",
       "      <td>Hôtel d’Angleterre Grenoble Hyper-Centre is se...</td>\n",
       "      <td>Hôtel d’Angleterre Grenob</td>\n",
       "    </tr>\n",
       "    <tr>\n",
       "      <th>99</th>\n",
       "      <td>grenoble</td>\n",
       "      <td>B&amp;B HOTEL Grenoble Centre Alpexpo</td>\n",
       "      <td>7.5</td>\n",
       "      <td>https://www.booking.com/hotel/fr/b-amp-b-greno...</td>\n",
       "      <td>45.158837</td>\n",
       "      <td>5.734435</td>\n",
       "      <td>This B&amp;B hotel is located in Grenoble, just 80...</td>\n",
       "      <td>This B&amp;B hotel is located</td>\n",
       "    </tr>\n",
       "  </tbody>\n",
       "</table>\n",
       "<p>100 rows × 8 columns</p>\n",
       "</div>"
      ],
      "text/plain": [
       "        city                                         hotel_name  score  \\\n",
       "0    avignon                                    Le Clos Saluces    9.9   \n",
       "1    avignon                                     Face au Palais    9.8   \n",
       "2    avignon  Cosy and large flat in the hypercentre of Avig...    9.8   \n",
       "3    avignon  La Maison Grivolas Appartements et Maison d'hôtes    9.7   \n",
       "4    avignon                            Les Jardins de Baracane    9.7   \n",
       "..       ...                                                ...    ...   \n",
       "95  grenoble            Hotel Mercure Grenoble Centre Président    7.6   \n",
       "96  grenoble                             Kyriad Grenoble Centre    7.6   \n",
       "97  grenoble            Séjours & Affaires Grenoble Marie Curie    7.6   \n",
       "98  grenoble           Hôtel d’Angleterre Grenoble Hyper-Centre    7.6   \n",
       "99  grenoble                  B&B HOTEL Grenoble Centre Alpexpo    7.5   \n",
       "\n",
       "                                                  url   latitude  longitude  \\\n",
       "0   https://www.booking.com/hotel/fr/le-clos-saluc...  43.950193   4.810586   \n",
       "1   https://www.booking.com/hotel/fr/le-jardin-du-...  43.950951   4.806201   \n",
       "2   https://www.booking.com/hotel/fr/cosy-and-larg...  43.949938   4.806563   \n",
       "3   https://www.booking.com/hotel/fr/la-maison-gri...  43.951836   4.812205   \n",
       "4   https://www.booking.com/hotel/fr/les-jardins-d...  43.944609   4.809282   \n",
       "..                                                ...        ...        ...   \n",
       "95  https://www.booking.com/hotel/fr/grand-mercure...  45.178494   5.720298   \n",
       "96  https://www.booking.com/hotel/fr/qualityhotelg...  45.168200   5.711995   \n",
       "97  https://www.booking.com/hotel/fr/grenoble-mari...  45.194396   5.710593   \n",
       "98  https://www.booking.com/hotel/fr/tiangleterre....  45.189204   5.725372   \n",
       "99  https://www.booking.com/hotel/fr/b-amp-b-greno...  45.158837   5.734435   \n",
       "\n",
       "                                     long_description  \\\n",
       "0   Offering a flowered furnished garden and a pat...   \n",
       "1   Face au Palais is located across the Papal Pal...   \n",
       "2   Located in Avignon and only 200 metres from Pa...   \n",
       "3   500 metres from Papal Palace, La Maison Grivol...   \n",
       "4   A 17th century property offering an outdoor po...   \n",
       "..                                                ...   \n",
       "95  Hôtel Mercure Grenoble Président is located 10...   \n",
       "96  Located 200 metres from Stade Lesdiguières, Ky...   \n",
       "97  This residence is a 5-minute walk from Grenobl...   \n",
       "98  Hôtel d’Angleterre Grenoble Hyper-Centre is se...   \n",
       "99  This B&B hotel is located in Grenoble, just 80...   \n",
       "\n",
       "            short_description  \n",
       "0   Offering a flowered furni  \n",
       "1   Face au Palais is located  \n",
       "2   Located in Avignon and on  \n",
       "3   500 metres from Papal Pal  \n",
       "4   A 17th century property o  \n",
       "..                        ...  \n",
       "95  Hôtel Mercure Grenoble Pr  \n",
       "96  Located 200 metres from S  \n",
       "97  This residence is a 5-min  \n",
       "98  Hôtel d’Angleterre Grenob  \n",
       "99  This B&B hotel is located  \n",
       "\n",
       "[100 rows x 8 columns]"
      ]
     },
     "execution_count": 16,
     "metadata": {},
     "output_type": "execute_result"
    }
   ],
   "source": [
    "# Creating a new dataframe with only the Top-20 hotels for each of the Top-5 cities\n",
    "df_booking_map = df_booking[df_booking['city'].isin(df_meteo_map[\"city\"])]\n",
    "df_booking_map = df_booking_map.groupby(\"city\").apply(lambda x: x.nlargest(20, \"score\")).reset_index(drop=True)\n",
    "df_booking_map"
   ]
  },
  {
   "cell_type": "code",
   "execution_count": 24,
   "metadata": {},
   "outputs": [
    {
     "data": {
      "application/vnd.plotly.v1+json": {
       "config": {
        "plotlyServerURL": "https://plot.ly"
       },
       "data": [
        {
         "customdata": [
          [
           "Offering a flowered furni"
          ],
          [
           "Face au Palais is located"
          ],
          [
           "Located in Avignon and on"
          ],
          [
           "500 metres from Papal Pal"
          ],
          [
           "A 17th century property o"
          ],
          [
           "Featuring an outdoor pool"
          ],
          [
           "Featuring a hot tub and c"
          ],
          [
           "Situated in Avignon, with"
          ],
          [
           "La Banasterie is the olde"
          ],
          [
           "Attractively situated in "
          ],
          [
           "Just 300 metres from the "
          ],
          [
           "Maison Velvet is a B&B lo"
          ],
          [
           "Maison XIXe et jardin en "
          ],
          [
           "Set in Avignon, Auberge d"
          ],
          [
           "Situated in the centre of"
          ],
          [
           "In the heart of Avignon, "
          ],
          [
           "Set in Avignon, 1.4 km fr"
          ],
          [
           "Located in the centre of "
          ],
          [
           "Régina is a hotel located"
          ],
          [
           "Located in a verdant sett"
          ],
          [
           "Offering a terrace and ci"
          ],
          [
           "Providing mountain views,"
          ],
          [
           "Located 37 km from Toulon"
          ],
          [
           "Boasting a seasonal outdo"
          ],
          [
           "Set in Bormes-les-Mimosas"
          ],
          [
           "The Mirage hotel is nestl"
          ],
          [
           "Le Hameau de la Nicoliniè"
          ],
          [
           "Situated in Bormes-les-Mi"
          ],
          [
           "Set in Bormes-les-Mimosas"
          ],
          [
           "Featuring air-conditioned"
          ],
          [
           "Within 38 km of Zenith de"
          ],
          [
           "Boasting a restaurant and"
          ],
          [
           "Magnifique maison de vill"
          ],
          [
           "Situated in Bormes-les-Mi"
          ],
          [
           "Renovated in January 2022"
          ],
          [
           "Offering city views, Coeu"
          ],
          [
           "SELECT'SO HOME - Résidenc"
          ],
          [
           "Hôtel Paradis is set in a"
          ],
          [
           "Set in the medieval villa"
          ],
          [
           "Set in Bormes-les-Mimosas"
          ],
          [
           "Featuring garden views, G"
          ],
          [
           "Gite Géranium*** is situa"
          ],
          [
           "Offering city views, La G"
          ],
          [
           "Offering garden views, Fl"
          ],
          [
           "Situated in Eguisheim, 5."
          ],
          [
           "Situated in Eguisheim, 6 "
          ],
          [
           "Offering free WiFi and mo"
          ],
          [
           "Set in Eguisheim, 5.8 km "
          ],
          [
           "Situated in Eguisheim in "
          ],
          [
           "Gite à Eguisheim proche d"
          ],
          [
           "Located in the quaint vil"
          ],
          [
           "Situated in Eguisheim in "
          ],
          [
           "Set at the heart of the m"
          ],
          [
           "Boasting a terrace and a "
          ],
          [
           "Set along the Alsace Wine"
          ],
          [
           "Chez Jade et Ambre featur"
          ],
          [
           "Set in a typical Alsatian"
          ],
          [
           "This hotel is located 200"
          ],
          [
           "Located in Eguisheim, 6 k"
          ],
          [
           "Gîte Le Hissala is locate"
          ],
          [
           "Located in Baudinard, jus"
          ],
          [
           "Situated in Blieux, Gaïa,"
          ],
          [
           "Le gite du grand cèdre - "
          ],
          [
           "Featuring a garden, a ter"
          ],
          [
           "Located in the heart of a"
          ],
          [
           "Situated in Gréoux-les-Ba"
          ],
          [
           "Featuring garden views, R"
          ],
          [
           "B&B Maison Castellane is "
          ],
          [
           "This camping site is situ"
          ],
          [
           "Set in La Palud sur Verdo"
          ],
          [
           "This campsite is set on t"
          ],
          [
           "Featuring a shared lounge"
          ],
          [
           "The Lou Paradou hotel is "
          ],
          [
           "Situated in Les Salles-su"
          ],
          [
           "Situated 40 km from ITER "
          ],
          [
           "Clos Augusta is set in Ri"
          ],
          [
           "Residence de Plein Air Pa"
          ],
          [
           "Offering mountain views, "
          ],
          [
           "Mazet Lavande, a property"
          ],
          [
           "Camping Frédéric Mistral "
          ],
          [
           "Located in Grenoble, 300 "
          ],
          [
           "Situated in Grenoble, 300"
          ],
          [
           "Located in the heart of G"
          ],
          [
           "Ideally set in the centre"
          ],
          [
           "Well situated in the cent"
          ],
          [
           "Situated in Grenoble, 1.6"
          ],
          [
           "Maison Barbillon Grenoble"
          ],
          [
           "Hôtel de l'Europe Grenobl"
          ],
          [
           "The 4-star Le Grand Hôtel"
          ],
          [
           "HAPPY APPART Gare Europol"
          ],
          [
           "Attractively located righ"
          ],
          [
           "With WTC Grenoble reachab"
          ],
          [
           "Featuring a sauna and a f"
          ],
          [
           "Set just 3.9 km from WTC "
          ],
          [
           "This 4-star Residhome is "
          ],
          [
           "Hôtel Mercure Grenoble Pr"
          ],
          [
           "Located 200 metres from S"
          ],
          [
           "This residence is a 5-min"
          ],
          [
           "Hôtel d’Angleterre Grenob"
          ],
          [
           "This B&B hotel is located"
          ]
         ],
         "hovertemplate": "<b>%{hovertext}</b><br><br>score=%{marker.color}<br>latitude=%{lat}<br>longitude=%{lon}<br>short_description=%{customdata[0]}<extra></extra>",
         "hovertext": [
          "Le Clos Saluces",
          "Face au Palais",
          "Cosy and large flat in the hypercentre of Avignon Provence - Welkeys",
          "La Maison Grivolas Appartements et Maison d'hôtes",
          "Les Jardins de Baracane",
          "N15 - Les Confidences - Chambres d'hôtes",
          "Duplex climatisé-Hauteur sous plafond 1,9m-Parking privé gratuit-Netflix-Arrivée autonome !! Duplex-Ceiling height 1,9m-Free private parking-Netflix-Self check in",
          "Charme au cœur d'avignon",
          "La Banasterie",
          "Aux MARCHES DU PALAIS - SPACIEUX - TERRASSE - WIFI",
          "B&B Villa de Margot",
          "Maison Velvet",
          "Maison XIXe et Jardin en Intramuros",
          "Auberge de la treille",
          "CLIMATISATION-Hypercentre-PARKING-COSY CARNOT-AVIGNONSMILE",
          "Elegant 2br with 2 bathrooms and AC close to Les Halles dAvignon Welkeys",
          "Be Loft B&B Pool & Spa",
          "Cute and cozy town-house of 130m2 in Avignon",
          "Régina Boutique Hotel",
          "Le Magnan",
          "Lilie House",
          "HomeStay Bormes",
          "Les deux mas",
          "Oustaou di Ercole",
          "Oustaou di Ercole",
          "Le Mirage",
          "Le Hameau de la Nicolinière",
          "Le petit atelier",
          "Eden Rose Grand Hotel BW Premier Collection",
          "FACE MER ENTRE PLAGE ET MARINA",
          "Studio avec Jardin et Parking Privés",
          "maison de vacances Médiévale Bormes-les-Mimosas village",
          "Magnifique maison de village clim vue mer 6 pers",
          "Les Terrasses",
          "Appartement Bord de Mer La Faviere",
          "Coeur de village",
          "SELECT'SO HOME - Résidence Le Poséidon - Mazet en Duplex - Prestations de qualité & Services Hôteliers - POS-A",
          "Hôtel Paradis",
          "Hostellerie du Cigalou - Les Collectionneurs",
          "Asklan",
          "GITE LE COQ ROUGE",
          "Gite Géranium***",
          "La Grange de Madeleine",
          "Fleur de Vigne",
          "Gite Edelweiss à Eguisheim",
          "Eguisheim village préféré des français grand studio",
          "Gite Le Petit Malsbach Eguisheim",
          "Gîte Nature à Eguisheim***",
          "Les chambres du domaine",
          "Gite à Eguisheim proche de Colmar et Kaysergberg.",
          "La Légende des 2 Pierres",
          "Appartement Le Ch'ti Alsacien",
          "L'Hostellerie du Château",
          "notre maison à Eguisheim",
          "Résidence Vénus",
          "Chez Jade et Ambre",
          "Le Hameau d'Eguisheim - Chambres d'hôtes & Gîtes",
          "Hotel Colmar Vignes Eguisheim",
          "Gîte le Petit Muscat à Eguisheim",
          "Gîte Le Hissala",
          "Maison CÉDÉJI",
          "Gaïa, maison d'hôtes Verdon, vue féerique",
          "Le gite du grand cèdre - proche des gorges du Verdon",
          "Le Petit Grillo - Gite proche des gorges du Verdon",
          "La Clorinde",
          "Résidence Lou Cigaloun - ANA LOCATION",
          "Résidence Les Écureuils",
          "B&B Maison Castellane",
          "Camping Calme et Nature",
          "Ferme de Bourras",
          "Camping La Ferme de Castellane",
          "Gîte LA BOUSCARLE",
          "Lou Paradou",
          "Auberge des Salles",
          "VILLA DU VERDON",
          "Clos Augusta",
          "Residence de Plein Air Panoramique à la Porte des Gorges du Verdon",
          "Les Bastides de Chanteraine",
          "Mazet Lavande",
          "Camping Frédéric Mistral",
          "Cosy-T1- Gare-Tribunal-GEM",
          "Superbspacious and quiet 4-rooms flat city center5 min walking gare #H9",
          "1924 Hôtel",
          "Hôtel Victoria",
          "Very nice bourgeois apartment for 6 StationTram #J0",
          "RockyPop Grenoble Hotel",
          "Maison Barbillon Grenoble",
          "Hôtel de l'Europe Grenoble hyper-centre",
          "Le Grand Hôtel Grenoble, BW Premier Collection by Best Western",
          "HAPPY APPART Gare Europole",
          "Appartement Milhan, quartier Aigle Championnet 40m2",
          "Le Hüb - Grenoble",
          "Okko Hotels Grenoble Jardin Hoche",
          "Esprit Bistrot / Rent4night Grenoble",
          "Residhome Grenoble Caserne De Bonne",
          "Hotel Mercure Grenoble Centre Président",
          "Kyriad Grenoble Centre",
          "Séjours & Affaires Grenoble Marie Curie",
          "Hôtel d’Angleterre Grenoble Hyper-Centre",
          "B&B HOTEL Grenoble Centre Alpexpo"
         ],
         "lat": [
          43.9501934,
          43.9509511,
          43.9499383,
          43.951836,
          43.94460933,
          43.95029956,
          43.9465116,
          43.947744,
          43.94986998,
          43.952055,
          43.95249614,
          43.94605555,
          43.95034438,
          43.946948,
          43.94917757,
          43.9488705,
          43.9403371,
          43.9461414,
          43.9481658,
          43.94362946,
          43.1509034,
          43.146445,
          43.14393659,
          43.1496567,
          43.14957041,
          43.14456855,
          43.10348079,
          43.142501,
          43.152872,
          43.12212055,
          43.1403633,
          43.15038674,
          43.151608,
          43.1441295,
          43.12602594,
          43.150077,
          43.12415,
          43.144686,
          43.1519579,
          43.12264843,
          48.04170911,
          48.0432777,
          48.0417829,
          48.0461134,
          48.04323544,
          48.0476831,
          48.04224054,
          48.0427072,
          48.042963,
          48.0420202,
          48.04299853,
          48.0425764,
          48.04242043,
          48.041599,
          48.04363894,
          48.0437697,
          48.04252897,
          48.04327133,
          48.0418229,
          48.04340695,
          43.71601901,
          43.87224481,
          43.77929309,
          43.79256561,
          43.83828039,
          43.7562956,
          43.75309523,
          43.85192409,
          43.83796907,
          43.78247417,
          43.83862066,
          43.65281772,
          43.760622,
          43.77239232,
          43.70759208,
          43.81755696,
          43.83927457,
          43.76273431,
          43.77717,
          43.84615569,
          45.190343,
          45.1919507,
          45.18928483,
          45.187494,
          45.187352,
          45.186911,
          45.1907933,
          45.19035711,
          45.19081504,
          45.18972877,
          45.183265,
          45.192873,
          45.18495018,
          45.18543211,
          45.18346987,
          45.17849379,
          45.16819994,
          45.19439642,
          45.18920402,
          45.15883667
         ],
         "legendgroup": "",
         "lon": [
          4.81058627,
          4.8062009,
          4.8065625,
          4.812205,
          4.80928241,
          4.81104354,
          4.8035118,
          4.80797,
          4.80851546,
          4.8054629,
          4.81014222,
          4.81546439,
          4.81153785,
          4.7943359999999995,
          4.81083119,
          4.8095723,
          4.81174964,
          4.8130876,
          4.80576485,
          4.81217131,
          6.3419325,
          6.327724,
          6.3363232400000005,
          6.3018207,
          6.30204835,
          6.35168418,
          6.32792383,
          6.3491788,
          6.342654,
          6.36269069,
          6.3367149,
          6.34269357,
          6.3411234,
          6.3514904,
          6.35675467,
          6.342641,
          6.351192,
          6.335125,
          6.3432835,
          6.35946596,
          7.3056928,
          7.3051784,
          7.3065467,
          7.3051632,
          7.30522192,
          7.3132915,
          7.3127051,
          7.3044255,
          7.307216,
          7.3041974,
          7.30448939,
          7.3052388,
          7.30631925,
          7.306161,
          7.30606377,
          7.3054,
          7.30712727,
          7.30412185,
          7.30527944,
          7.30760872,
          6.13378942,
          6.36898686,
          6.00733668,
          6.02551939,
          6.22067034,
          5.8805005999999995,
          5.88853615,
          6.5094128300000005,
          6.49042815,
          6.35027342,
          6.54142499,
          6.16706717,
          5.888974,
          6.20848164,
          6.0370801,
          6.09606973,
          6.49366021,
          6.21918202,
          5.972271,
          6.50986075,
          5.7111216,
          5.718183,
          5.71861982,
          5.721472,
          5.719134,
          5.731293,
          5.71669668,
          5.72733097,
          5.72854802,
          5.71098658,
          5.7183910000000004,
          5.711917,
          5.72598981,
          5.74399642,
          5.72433829,
          5.72029755,
          5.71199477,
          5.71059331,
          5.72537228,
          5.73443547
         ],
         "marker": {
          "color": [
           9.9,
           9.8,
           9.8,
           9.7,
           9.7,
           9.6,
           9.6,
           9.4,
           9.3,
           9.2,
           9.1,
           9,
           9,
           8.6,
           8.6,
           8.6,
           8.6,
           8.4,
           8.4,
           8.3,
           10,
           9.6,
           9.4,
           9.2,
           9.2,
           9.1,
           9,
           8.9,
           8.8,
           8.6,
           8.5,
           8.5,
           8.4,
           8.4,
           8.3,
           8.2,
           8,
           8,
           7.8,
           7.6,
           9.8,
           9.7,
           9.7,
           9.7,
           9.4,
           9.4,
           9.3,
           9.3,
           9.3,
           9.2,
           9.1,
           9.1,
           9,
           9,
           8.9,
           8.9,
           8.9,
           8.8,
           8.7,
           8.6,
           9.5,
           9.4,
           9.3,
           9.1,
           9.1,
           9.1,
           9,
           8.9,
           8.8,
           8.8,
           8.8,
           8.7,
           8.7,
           8.7,
           8.6,
           8.6,
           8.6,
           8.3,
           8.2,
           8,
           8.9,
           8.8,
           8.5,
           8.5,
           8.4,
           8.4,
           8.3,
           8.3,
           8.3,
           8.2,
           8.1,
           8.1,
           8,
           7.9,
           7.7,
           7.6,
           7.6,
           7.6,
           7.6,
           7.5
          ],
          "coloraxis": "coloraxis",
          "size": [
           9.9,
           9.8,
           9.8,
           9.7,
           9.7,
           9.6,
           9.6,
           9.4,
           9.3,
           9.2,
           9.1,
           9,
           9,
           8.6,
           8.6,
           8.6,
           8.6,
           8.4,
           8.4,
           8.3,
           10,
           9.6,
           9.4,
           9.2,
           9.2,
           9.1,
           9,
           8.9,
           8.8,
           8.6,
           8.5,
           8.5,
           8.4,
           8.4,
           8.3,
           8.2,
           8,
           8,
           7.8,
           7.6,
           9.8,
           9.7,
           9.7,
           9.7,
           9.4,
           9.4,
           9.3,
           9.3,
           9.3,
           9.2,
           9.1,
           9.1,
           9,
           9,
           8.9,
           8.9,
           8.9,
           8.8,
           8.7,
           8.6,
           9.5,
           9.4,
           9.3,
           9.1,
           9.1,
           9.1,
           9,
           8.9,
           8.8,
           8.8,
           8.8,
           8.7,
           8.7,
           8.7,
           8.6,
           8.6,
           8.6,
           8.3,
           8.2,
           8,
           8.9,
           8.8,
           8.5,
           8.5,
           8.4,
           8.4,
           8.3,
           8.3,
           8.3,
           8.2,
           8.1,
           8.1,
           8,
           7.9,
           7.7,
           7.6,
           7.6,
           7.6,
           7.6,
           7.5
          ],
          "sizemode": "area",
          "sizeref": 0.016
         },
         "mode": "markers",
         "name": "",
         "showlegend": false,
         "subplot": "mapbox",
         "type": "scattermapbox"
        }
       ],
       "layout": {
        "coloraxis": {
         "colorbar": {
          "title": {
           "text": "score"
          }
         },
         "colorscale": [
          [
           0,
           "rgb(214, 249, 207)"
          ],
          [
           0.09090909090909091,
           "rgb(186, 228, 174)"
          ],
          [
           0.18181818181818182,
           "rgb(156, 209, 143)"
          ],
          [
           0.2727272727272727,
           "rgb(124, 191, 115)"
          ],
          [
           0.36363636363636365,
           "rgb(85, 174, 91)"
          ],
          [
           0.45454545454545453,
           "rgb(37, 157, 81)"
          ],
          [
           0.5454545454545454,
           "rgb(7, 138, 78)"
          ],
          [
           0.6363636363636364,
           "rgb(13, 117, 71)"
          ],
          [
           0.7272727272727273,
           "rgb(23, 95, 61)"
          ],
          [
           0.8181818181818182,
           "rgb(25, 75, 49)"
          ],
          [
           0.9090909090909091,
           "rgb(23, 55, 35)"
          ],
          [
           1,
           "rgb(17, 36, 20)"
          ]
         ]
        },
        "height": 800,
        "legend": {
         "itemsizing": "constant",
         "tracegroupgap": 0
        },
        "mapbox": {
         "center": {
          "lat": 47,
          "lon": 4
         },
         "domain": {
          "x": [
           0,
           1
          ],
          "y": [
           0,
           1
          ]
         },
         "style": "carto-darkmatter",
         "zoom": 5
        },
        "margin": {
         "b": 0,
         "l": 0,
         "r": 0,
         "t": 80
        },
        "template": {
         "data": {
          "bar": [
           {
            "error_x": {
             "color": "#f2f5fa"
            },
            "error_y": {
             "color": "#f2f5fa"
            },
            "marker": {
             "line": {
              "color": "rgb(17,17,17)",
              "width": 0.5
             },
             "pattern": {
              "fillmode": "overlay",
              "size": 10,
              "solidity": 0.2
             }
            },
            "type": "bar"
           }
          ],
          "barpolar": [
           {
            "marker": {
             "line": {
              "color": "rgb(17,17,17)",
              "width": 0.5
             },
             "pattern": {
              "fillmode": "overlay",
              "size": 10,
              "solidity": 0.2
             }
            },
            "type": "barpolar"
           }
          ],
          "carpet": [
           {
            "aaxis": {
             "endlinecolor": "#A2B1C6",
             "gridcolor": "#506784",
             "linecolor": "#506784",
             "minorgridcolor": "#506784",
             "startlinecolor": "#A2B1C6"
            },
            "baxis": {
             "endlinecolor": "#A2B1C6",
             "gridcolor": "#506784",
             "linecolor": "#506784",
             "minorgridcolor": "#506784",
             "startlinecolor": "#A2B1C6"
            },
            "type": "carpet"
           }
          ],
          "choropleth": [
           {
            "colorbar": {
             "outlinewidth": 0,
             "ticks": ""
            },
            "type": "choropleth"
           }
          ],
          "contour": [
           {
            "colorbar": {
             "outlinewidth": 0,
             "ticks": ""
            },
            "colorscale": [
             [
              0,
              "#0d0887"
             ],
             [
              0.1111111111111111,
              "#46039f"
             ],
             [
              0.2222222222222222,
              "#7201a8"
             ],
             [
              0.3333333333333333,
              "#9c179e"
             ],
             [
              0.4444444444444444,
              "#bd3786"
             ],
             [
              0.5555555555555556,
              "#d8576b"
             ],
             [
              0.6666666666666666,
              "#ed7953"
             ],
             [
              0.7777777777777778,
              "#fb9f3a"
             ],
             [
              0.8888888888888888,
              "#fdca26"
             ],
             [
              1,
              "#f0f921"
             ]
            ],
            "type": "contour"
           }
          ],
          "contourcarpet": [
           {
            "colorbar": {
             "outlinewidth": 0,
             "ticks": ""
            },
            "type": "contourcarpet"
           }
          ],
          "heatmap": [
           {
            "colorbar": {
             "outlinewidth": 0,
             "ticks": ""
            },
            "colorscale": [
             [
              0,
              "#0d0887"
             ],
             [
              0.1111111111111111,
              "#46039f"
             ],
             [
              0.2222222222222222,
              "#7201a8"
             ],
             [
              0.3333333333333333,
              "#9c179e"
             ],
             [
              0.4444444444444444,
              "#bd3786"
             ],
             [
              0.5555555555555556,
              "#d8576b"
             ],
             [
              0.6666666666666666,
              "#ed7953"
             ],
             [
              0.7777777777777778,
              "#fb9f3a"
             ],
             [
              0.8888888888888888,
              "#fdca26"
             ],
             [
              1,
              "#f0f921"
             ]
            ],
            "type": "heatmap"
           }
          ],
          "heatmapgl": [
           {
            "colorbar": {
             "outlinewidth": 0,
             "ticks": ""
            },
            "colorscale": [
             [
              0,
              "#0d0887"
             ],
             [
              0.1111111111111111,
              "#46039f"
             ],
             [
              0.2222222222222222,
              "#7201a8"
             ],
             [
              0.3333333333333333,
              "#9c179e"
             ],
             [
              0.4444444444444444,
              "#bd3786"
             ],
             [
              0.5555555555555556,
              "#d8576b"
             ],
             [
              0.6666666666666666,
              "#ed7953"
             ],
             [
              0.7777777777777778,
              "#fb9f3a"
             ],
             [
              0.8888888888888888,
              "#fdca26"
             ],
             [
              1,
              "#f0f921"
             ]
            ],
            "type": "heatmapgl"
           }
          ],
          "histogram": [
           {
            "marker": {
             "pattern": {
              "fillmode": "overlay",
              "size": 10,
              "solidity": 0.2
             }
            },
            "type": "histogram"
           }
          ],
          "histogram2d": [
           {
            "colorbar": {
             "outlinewidth": 0,
             "ticks": ""
            },
            "colorscale": [
             [
              0,
              "#0d0887"
             ],
             [
              0.1111111111111111,
              "#46039f"
             ],
             [
              0.2222222222222222,
              "#7201a8"
             ],
             [
              0.3333333333333333,
              "#9c179e"
             ],
             [
              0.4444444444444444,
              "#bd3786"
             ],
             [
              0.5555555555555556,
              "#d8576b"
             ],
             [
              0.6666666666666666,
              "#ed7953"
             ],
             [
              0.7777777777777778,
              "#fb9f3a"
             ],
             [
              0.8888888888888888,
              "#fdca26"
             ],
             [
              1,
              "#f0f921"
             ]
            ],
            "type": "histogram2d"
           }
          ],
          "histogram2dcontour": [
           {
            "colorbar": {
             "outlinewidth": 0,
             "ticks": ""
            },
            "colorscale": [
             [
              0,
              "#0d0887"
             ],
             [
              0.1111111111111111,
              "#46039f"
             ],
             [
              0.2222222222222222,
              "#7201a8"
             ],
             [
              0.3333333333333333,
              "#9c179e"
             ],
             [
              0.4444444444444444,
              "#bd3786"
             ],
             [
              0.5555555555555556,
              "#d8576b"
             ],
             [
              0.6666666666666666,
              "#ed7953"
             ],
             [
              0.7777777777777778,
              "#fb9f3a"
             ],
             [
              0.8888888888888888,
              "#fdca26"
             ],
             [
              1,
              "#f0f921"
             ]
            ],
            "type": "histogram2dcontour"
           }
          ],
          "mesh3d": [
           {
            "colorbar": {
             "outlinewidth": 0,
             "ticks": ""
            },
            "type": "mesh3d"
           }
          ],
          "parcoords": [
           {
            "line": {
             "colorbar": {
              "outlinewidth": 0,
              "ticks": ""
             }
            },
            "type": "parcoords"
           }
          ],
          "pie": [
           {
            "automargin": true,
            "type": "pie"
           }
          ],
          "scatter": [
           {
            "marker": {
             "line": {
              "color": "#283442"
             }
            },
            "type": "scatter"
           }
          ],
          "scatter3d": [
           {
            "line": {
             "colorbar": {
              "outlinewidth": 0,
              "ticks": ""
             }
            },
            "marker": {
             "colorbar": {
              "outlinewidth": 0,
              "ticks": ""
             }
            },
            "type": "scatter3d"
           }
          ],
          "scattercarpet": [
           {
            "marker": {
             "colorbar": {
              "outlinewidth": 0,
              "ticks": ""
             }
            },
            "type": "scattercarpet"
           }
          ],
          "scattergeo": [
           {
            "marker": {
             "colorbar": {
              "outlinewidth": 0,
              "ticks": ""
             }
            },
            "type": "scattergeo"
           }
          ],
          "scattergl": [
           {
            "marker": {
             "line": {
              "color": "#283442"
             }
            },
            "type": "scattergl"
           }
          ],
          "scattermapbox": [
           {
            "marker": {
             "colorbar": {
              "outlinewidth": 0,
              "ticks": ""
             }
            },
            "type": "scattermapbox"
           }
          ],
          "scatterpolar": [
           {
            "marker": {
             "colorbar": {
              "outlinewidth": 0,
              "ticks": ""
             }
            },
            "type": "scatterpolar"
           }
          ],
          "scatterpolargl": [
           {
            "marker": {
             "colorbar": {
              "outlinewidth": 0,
              "ticks": ""
             }
            },
            "type": "scatterpolargl"
           }
          ],
          "scatterternary": [
           {
            "marker": {
             "colorbar": {
              "outlinewidth": 0,
              "ticks": ""
             }
            },
            "type": "scatterternary"
           }
          ],
          "surface": [
           {
            "colorbar": {
             "outlinewidth": 0,
             "ticks": ""
            },
            "colorscale": [
             [
              0,
              "#0d0887"
             ],
             [
              0.1111111111111111,
              "#46039f"
             ],
             [
              0.2222222222222222,
              "#7201a8"
             ],
             [
              0.3333333333333333,
              "#9c179e"
             ],
             [
              0.4444444444444444,
              "#bd3786"
             ],
             [
              0.5555555555555556,
              "#d8576b"
             ],
             [
              0.6666666666666666,
              "#ed7953"
             ],
             [
              0.7777777777777778,
              "#fb9f3a"
             ],
             [
              0.8888888888888888,
              "#fdca26"
             ],
             [
              1,
              "#f0f921"
             ]
            ],
            "type": "surface"
           }
          ],
          "table": [
           {
            "cells": {
             "fill": {
              "color": "#506784"
             },
             "line": {
              "color": "rgb(17,17,17)"
             }
            },
            "header": {
             "fill": {
              "color": "#2a3f5f"
             },
             "line": {
              "color": "rgb(17,17,17)"
             }
            },
            "type": "table"
           }
          ]
         },
         "layout": {
          "annotationdefaults": {
           "arrowcolor": "#f2f5fa",
           "arrowhead": 0,
           "arrowwidth": 1
          },
          "autotypenumbers": "strict",
          "coloraxis": {
           "colorbar": {
            "outlinewidth": 0,
            "ticks": ""
           }
          },
          "colorscale": {
           "diverging": [
            [
             0,
             "#8e0152"
            ],
            [
             0.1,
             "#c51b7d"
            ],
            [
             0.2,
             "#de77ae"
            ],
            [
             0.3,
             "#f1b6da"
            ],
            [
             0.4,
             "#fde0ef"
            ],
            [
             0.5,
             "#f7f7f7"
            ],
            [
             0.6,
             "#e6f5d0"
            ],
            [
             0.7,
             "#b8e186"
            ],
            [
             0.8,
             "#7fbc41"
            ],
            [
             0.9,
             "#4d9221"
            ],
            [
             1,
             "#276419"
            ]
           ],
           "sequential": [
            [
             0,
             "#0d0887"
            ],
            [
             0.1111111111111111,
             "#46039f"
            ],
            [
             0.2222222222222222,
             "#7201a8"
            ],
            [
             0.3333333333333333,
             "#9c179e"
            ],
            [
             0.4444444444444444,
             "#bd3786"
            ],
            [
             0.5555555555555556,
             "#d8576b"
            ],
            [
             0.6666666666666666,
             "#ed7953"
            ],
            [
             0.7777777777777778,
             "#fb9f3a"
            ],
            [
             0.8888888888888888,
             "#fdca26"
            ],
            [
             1,
             "#f0f921"
            ]
           ],
           "sequentialminus": [
            [
             0,
             "#0d0887"
            ],
            [
             0.1111111111111111,
             "#46039f"
            ],
            [
             0.2222222222222222,
             "#7201a8"
            ],
            [
             0.3333333333333333,
             "#9c179e"
            ],
            [
             0.4444444444444444,
             "#bd3786"
            ],
            [
             0.5555555555555556,
             "#d8576b"
            ],
            [
             0.6666666666666666,
             "#ed7953"
            ],
            [
             0.7777777777777778,
             "#fb9f3a"
            ],
            [
             0.8888888888888888,
             "#fdca26"
            ],
            [
             1,
             "#f0f921"
            ]
           ]
          },
          "colorway": [
           "#636efa",
           "#EF553B",
           "#00cc96",
           "#ab63fa",
           "#FFA15A",
           "#19d3f3",
           "#FF6692",
           "#B6E880",
           "#FF97FF",
           "#FECB52"
          ],
          "font": {
           "color": "#f2f5fa"
          },
          "geo": {
           "bgcolor": "rgb(17,17,17)",
           "lakecolor": "rgb(17,17,17)",
           "landcolor": "rgb(17,17,17)",
           "showlakes": true,
           "showland": true,
           "subunitcolor": "#506784"
          },
          "hoverlabel": {
           "align": "left"
          },
          "hovermode": "closest",
          "mapbox": {
           "style": "dark"
          },
          "paper_bgcolor": "rgb(17,17,17)",
          "plot_bgcolor": "rgb(17,17,17)",
          "polar": {
           "angularaxis": {
            "gridcolor": "#506784",
            "linecolor": "#506784",
            "ticks": ""
           },
           "bgcolor": "rgb(17,17,17)",
           "radialaxis": {
            "gridcolor": "#506784",
            "linecolor": "#506784",
            "ticks": ""
           }
          },
          "scene": {
           "xaxis": {
            "backgroundcolor": "rgb(17,17,17)",
            "gridcolor": "#506784",
            "gridwidth": 2,
            "linecolor": "#506784",
            "showbackground": true,
            "ticks": "",
            "zerolinecolor": "#C8D4E3"
           },
           "yaxis": {
            "backgroundcolor": "rgb(17,17,17)",
            "gridcolor": "#506784",
            "gridwidth": 2,
            "linecolor": "#506784",
            "showbackground": true,
            "ticks": "",
            "zerolinecolor": "#C8D4E3"
           },
           "zaxis": {
            "backgroundcolor": "rgb(17,17,17)",
            "gridcolor": "#506784",
            "gridwidth": 2,
            "linecolor": "#506784",
            "showbackground": true,
            "ticks": "",
            "zerolinecolor": "#C8D4E3"
           }
          },
          "shapedefaults": {
           "line": {
            "color": "#f2f5fa"
           }
          },
          "sliderdefaults": {
           "bgcolor": "#C8D4E3",
           "bordercolor": "rgb(17,17,17)",
           "borderwidth": 1,
           "tickwidth": 0
          },
          "ternary": {
           "aaxis": {
            "gridcolor": "#506784",
            "linecolor": "#506784",
            "ticks": ""
           },
           "baxis": {
            "gridcolor": "#506784",
            "linecolor": "#506784",
            "ticks": ""
           },
           "bgcolor": "rgb(17,17,17)",
           "caxis": {
            "gridcolor": "#506784",
            "linecolor": "#506784",
            "ticks": ""
           }
          },
          "title": {
           "x": 0.05
          },
          "updatemenudefaults": {
           "bgcolor": "#506784",
           "borderwidth": 0
          },
          "xaxis": {
           "automargin": true,
           "gridcolor": "#283442",
           "linecolor": "#506784",
           "ticks": "",
           "title": {
            "standoff": 15
           },
           "zerolinecolor": "#283442",
           "zerolinewidth": 2
          },
          "yaxis": {
           "automargin": true,
           "gridcolor": "#283442",
           "linecolor": "#506784",
           "ticks": "",
           "title": {
            "standoff": 15
           },
           "zerolinecolor": "#283442",
           "zerolinewidth": 2
          }
         }
        },
        "title": {
         "text": "Best Hotels for the Top-5 cities",
         "x": 0.5
        },
        "width": 1000
       }
      }
     },
     "metadata": {},
     "output_type": "display_data"
    }
   ],
   "source": [
    "# Displaying a map with the Top-20 hotels for the Top-5 cities\n",
    "fig = px.scatter_mapbox(df_booking_map,\n",
    "                        title = 'Best Hotels for the Top-5 cities',\n",
    "                        lat = 'latitude',\n",
    "                        lon = 'longitude',\n",
    "                        color = 'score',\n",
    "                        size = 'score',\n",
    "                        color_continuous_scale = px.colors.sequential.algae,\n",
    "                        size_max = 25,\n",
    "                        hover_name = 'hotel_name',\n",
    "                        hover_data = {'short_description': True}\n",
    "                        )\n",
    "\n",
    "fig.update_layout(width = 1000,\n",
    "                  height = 800,\n",
    "                  title_x = 0.5, \n",
    "                  template='plotly_dark',\n",
    "                  mapbox = {\"style\": \"carto-darkmatter\", \"center\": {\"lon\": 4, \"lat\" : 47}, \"zoom\": 5},\n",
    "                  margin = {\"l\": 0, \"r\": 0, \"b\": 0, \"t\": 80},\n",
    "                  )\n",
    "fig.show()"
   ]
  },
  {
   "attachments": {},
   "cell_type": "markdown",
   "metadata": {},
   "source": [
    "# 5 - AWS S3 Bucket"
   ]
  },
  {
   "cell_type": "code",
   "execution_count": 29,
   "metadata": {},
   "outputs": [],
   "source": [
    "# Importing library to have a programmatic access to AWS\n",
    "import boto3\n",
    "\n",
    "# Specifying credentials from AWS\n",
    "ACCESS_KEY = \"XXXX\"\n",
    "SECRET_KEY = \"XXXX\"\n",
    "\n",
    "# Creating S3 session\n",
    "session = boto3.Session(aws_access_key_id=ACCESS_KEY, \n",
    "                        aws_secret_access_key=SECRET_KEY)"
   ]
  },
  {
   "cell_type": "code",
   "execution_count": 30,
   "metadata": {},
   "outputs": [],
   "source": [
    "# Setting-up a resource\n",
    "s3 = session.resource(\"s3\")\n",
    "\n",
    "# Creating a bucket\n",
    "bucket = s3.create_bucket(Bucket=\"bucket-kayak-project-wml\")"
   ]
  },
  {
   "cell_type": "code",
   "execution_count": 33,
   "metadata": {},
   "outputs": [],
   "source": [
    "# Uploading csv file to the bucket\n",
    "put_object = bucket.put_object(Key=\"dataset-kayak.csv\", Body='csv')"
   ]
  },
  {
   "cell_type": "code",
   "execution_count": 34,
   "metadata": {},
   "outputs": [],
   "source": [
    "# Downloading from s3 bucket\n",
    "bucket.download_file('dataset-kayak.csv', 'dataset-kayak.csv')"
   ]
  },
  {
   "attachments": {},
   "cell_type": "markdown",
   "metadata": {},
   "source": [
    "# 6 - AWS RDS Instance"
   ]
  },
  {
   "cell_type": "code",
   "execution_count": 47,
   "metadata": {},
   "outputs": [],
   "source": [
    "# Importing libraries and modules\n",
    "import psycopg2\n",
    "from sqlalchemy import create_engine, text\n",
    "from sqlalchemy.orm import sessionmaker"
   ]
  },
  {
   "cell_type": "code",
   "execution_count": 48,
   "metadata": {},
   "outputs": [],
   "source": [
    "# Define database connection variables\n",
    "DBHOST = \"kayak-db.c6odhjfovwji.eu-west-3.rds.amazonaws.com\"\n",
    "DBUSER = \"XXXX\"\n",
    "DBPASS = \"XXXX\"\n",
    "DBNAME = \"XXXX\"\n",
    "\n",
    "# Trying to add a PORT to prevent further error but useless\n",
    "PORT=\"5432\""
   ]
  },
  {
   "cell_type": "code",
   "execution_count": 50,
   "metadata": {},
   "outputs": [],
   "source": [
    "# Connecting to my postgresSQL database\n",
    "engine = create_engine(f\"postgresql+psycopg2://{DBUSER}:{DBPASS}@{DBHOST}/{DBNAME}\", echo=True)"
   ]
  },
  {
   "cell_type": "code",
   "execution_count": 51,
   "metadata": {},
   "outputs": [],
   "source": [
    "# Initializing a sessionmaker to talk to our database and opening sessions\n",
    "Session = sessionmaker(bind = engine)\n",
    "session = Session()"
   ]
  },
  {
   "cell_type": "code",
   "execution_count": null,
   "metadata": {},
   "outputs": [],
   "source": [
    "# Trying to transform the dataframes to SQL. But no authorization\n",
    "df_meteo.to_sql(\"df_meteo_sql\", engine)\n",
    "df_booking.to_sql(\"df_booking_sql\", engine)"
   ]
  },
  {
   "cell_type": "code",
   "execution_count": 53,
   "metadata": {},
   "outputs": [],
   "source": [
    "# Second attempt, using a fake database, using my computer's memory to mimic what a real database would do\n",
    "engine2 = create_engine(\"sqlite:///:memory:\", echo=True)"
   ]
  },
  {
   "cell_type": "code",
   "execution_count": 54,
   "metadata": {},
   "outputs": [
    {
     "name": "stdout",
     "output_type": "stream",
     "text": [
      "2023-02-09 15:57:31,009 INFO sqlalchemy.engine.Engine PRAGMA main.table_info(\"df_meteo_sql\")\n",
      "2023-02-09 15:57:31,010 INFO sqlalchemy.engine.Engine [raw sql] ()\n",
      "2023-02-09 15:57:31,011 INFO sqlalchemy.engine.Engine PRAGMA temp.table_info(\"df_meteo_sql\")\n",
      "2023-02-09 15:57:31,012 INFO sqlalchemy.engine.Engine [raw sql] ()\n",
      "2023-02-09 15:57:31,016 INFO sqlalchemy.engine.Engine BEGIN (implicit)\n",
      "2023-02-09 15:57:31,017 INFO sqlalchemy.engine.Engine \n",
      "CREATE TABLE df_meteo_sql (\n",
      "\t\"index\" BIGINT, \n",
      "\tcity_id BIGINT, \n",
      "\tcity TEXT, \n",
      "\tcity_latitude FLOAT, \n",
      "\tcity_longitude FLOAT, \n",
      "\tfelt_temperature FLOAT, \n",
      "\train_probability FLOAT\n",
      ")\n",
      "\n",
      "\n",
      "2023-02-09 15:57:31,018 INFO sqlalchemy.engine.Engine [no key 0.00120s] ()\n",
      "2023-02-09 15:57:31,022 INFO sqlalchemy.engine.Engine CREATE INDEX ix_df_meteo_sql_index ON df_meteo_sql (\"index\")\n",
      "2023-02-09 15:57:31,022 INFO sqlalchemy.engine.Engine [no key 0.00066s] ()\n",
      "2023-02-09 15:57:31,024 INFO sqlalchemy.engine.Engine COMMIT\n",
      "2023-02-09 15:57:31,028 INFO sqlalchemy.engine.Engine BEGIN (implicit)\n",
      "2023-02-09 15:57:31,032 INFO sqlalchemy.engine.Engine INSERT INTO df_meteo_sql (\"index\", city_id, city, city_latitude, city_longitude, felt_temperature, rain_probability) VALUES (?, ?, ?, ?, ?, ?, ?)\n",
      "2023-02-09 15:57:31,033 INFO sqlalchemy.engine.Engine [generated in 0.00121s] ((0, 19, 'grenoble', 45.1875602, 5.7357819, 10.95857142857143, 0.0), (1, 10, 'bormes les mimosas', 43.1506968, 6.3419285, 10.37142857142857, 0.0), (2, 5, 'avignon', 43.9492493, 4.8059012, 9.071428571428571, 0.0), (3, 18, 'gorges du verdon', 43.7496562, 6.3285616, 8.218571428571428, 0.0), (4, 17, 'eguisheim', 48.0447968, 7.3079618, 8.094285714285714, 0.0), (5, 8, 'besancon', 47.2380222, 6.0243622, 8.064285714285715, 0.0), (6, 3, 'annecy', 45.8992348, 6.1288847, 7.994285714285715, 0.0), (7, 23, 'lyon', 45.7578137, 4.8320114, 7.972857142857143, 0.0)  ... displaying 10 of 35 total bound parameter sets ...  (33, 9, 'biarritz', 43.471143749999996, -1.552726590666314, 9.92, 0.22428571428571425), (34, 31, 'st malo', 48.649518, -2.0260409, 7.368571428571428, 0.2342857142857143))\n",
      "2023-02-09 15:57:31,037 INFO sqlalchemy.engine.Engine COMMIT\n",
      "2023-02-09 15:57:31,043 INFO sqlalchemy.engine.Engine PRAGMA main.table_info(\"df_booking_sql\")\n",
      "2023-02-09 15:57:31,044 INFO sqlalchemy.engine.Engine [raw sql] ()\n",
      "2023-02-09 15:57:31,045 INFO sqlalchemy.engine.Engine PRAGMA temp.table_info(\"df_booking_sql\")\n",
      "2023-02-09 15:57:31,046 INFO sqlalchemy.engine.Engine [raw sql] ()\n",
      "2023-02-09 15:57:31,048 INFO sqlalchemy.engine.Engine BEGIN (implicit)\n",
      "2023-02-09 15:57:31,050 INFO sqlalchemy.engine.Engine \n",
      "CREATE TABLE df_booking_sql (\n",
      "\t\"index\" BIGINT, \n",
      "\tcity TEXT, \n",
      "\thotel_name TEXT, \n",
      "\tscore FLOAT, \n",
      "\turl TEXT, \n",
      "\tlatitude FLOAT, \n",
      "\tlongitude FLOAT, \n",
      "\tlong_description TEXT, \n",
      "\tshort_description TEXT\n",
      ")\n",
      "\n",
      "\n",
      "2023-02-09 15:57:31,051 INFO sqlalchemy.engine.Engine [no key 0.00104s] ()\n",
      "2023-02-09 15:57:31,052 INFO sqlalchemy.engine.Engine CREATE INDEX ix_df_booking_sql_index ON df_booking_sql (\"index\")\n",
      "2023-02-09 15:57:31,054 INFO sqlalchemy.engine.Engine [no key 0.00229s] ()\n",
      "2023-02-09 15:57:31,055 INFO sqlalchemy.engine.Engine COMMIT\n",
      "2023-02-09 15:57:31,059 INFO sqlalchemy.engine.Engine BEGIN (implicit)\n",
      "2023-02-09 15:57:31,065 INFO sqlalchemy.engine.Engine INSERT INTO df_booking_sql (\"index\", city, hotel_name, score, url, latitude, longitude, long_description, short_description) VALUES (?, ?, ?, ?, ?, ?, ?, ?, ?)\n",
      "2023-02-09 15:57:31,067 INFO sqlalchemy.engine.Engine [generated in 0.00547s] ((238, 'bayonne', 'Vue rivière super centre Bayonne, design 60 mt', 9.0, 'https://www.booking.com/hotel/fr/vue-riviere-super-centre-bayonne-design-60-mt.en-gb.html?aid=304142&label=gen173nr-1FCAEoggI46AdIM1gEaE2IAQGYAQm4ARj ... (144 characters truncated) ... _rooms=1&group_children=0&req_children=0&hpos=25&hapos=25&sr_order=popularity&srpvid=013a5115d9d10025&srepoch=1675855915&from=searchresults#hotelTmpl', 43.49221344, -1.47373664, 'Vue rivière super centre Bayonne, design 60 mt is located in Bayonne, 12 km from Biarritz La Négresse Train Station, 22 km from Saint Jean de Luz Train Station, as well as 22 km from...', 'Vue rivière super centre '), (239, 'mont st michel', 'Le Marquis De La Guintre', 8.8, 'https://www.booking.com/hotel/fr/le-marquis-de-la-guintre.en-gb.html?aid=304142&label=gen173nr-1FCAEoggI46AdIM1gEaE2IAQGYAQm4ARjIAQXYAQHoAQH4AQOIAgGo ... (123 characters truncated) ... _rooms=1&group_children=0&req_children=0&hpos=25&hapos=25&sr_order=popularity&srpvid=a6f151162e3f0248&srepoch=1675855917&from=searchresults#hotelTmpl', 48.62486471, -1.44534186, 'Located in Courtils, Le Marquis De La Guintre provides free WiFi, and guests can enjoy a terrace, a restaurant and a bar. Guests at the bed and breakfast can enjoy a continental breakfast. ', 'Located in Courtils, Le M'), (240, 'grenoble', 'Hotel Mercure Grenoble Centre Président', 7.6, 'https://www.booking.com/hotel/fr/grand-mercure-grenoble-president.en-gb.html?aid=304142&label=gen173nr-1FCAEoggI46AdIM1gEaE2IAQGYAQm4ARjIAQXYAQHoAQH4 ... (162 characters truncated) ... hildren=0&hpos=25&hapos=25&sr_order=popularity&srpvid=62bb5114e2a20371&srepoch=1675855913&from_sustainable_property_sr=1&from=searchresults#hotelTmpl', 45.17849379, 5.72029755, 'Hôtel Mercure Grenoble Président is located 10 minutes from Grenoble’s city centre and accessible by tram and other public transport services. ', 'Hôtel Mercure Grenoble Pr'), (241, 'cassis', 'LA FALAISE PARADIS Vue mer 180°', 7.7, 'https://www.booking.com/hotel/fr/la-falaise-paradis-vue-mer-180deg.en-gb.html?aid=304142&label=gen173nr-1FCAEoggI46AdIM1gEaE2IAQGYAQm4ARjIAQXYAQHoAQH ... (179 characters truncated) ... 5&hapos=25&sr_order=popularity&srpvid=1a9351162a5301ed&srepoch=1675855919&from_beach_sr=1&from_sustainable_property_sr=1&from=searchresults#hotelTmpl', 43.21529502, 5.54623054, 'Offering barbecue facilities and sea view, LA FALAISE PARADIS Vue mer 180° is situated in Cassis, less than 1 km from Grande Mer and a 12-minute walk from Anse de Corton Beach. ', 'Offering barbecue facilit'), (242, 'bormes les mimosas', \"SELECT'SO HOME - Résidence Le Poséidon - Mazet en Duplex - Prestations de qualité & Services Hôteliers - POS-A\", 8.0, 'https://www.booking.com/hotel/fr/poseidon-mazet-60-m2-en-duplex-3-pieces-piscine-et-garage-prive.en-gb.html?aid=304142&label=gen173nr-1FCAEoggI46AdIM ... (178 characters truncated) ... hildren=0&req_children=0&hpos=13&hapos=13&sr_order=popularity&srpvid=2a5451173064014a&srepoch=1675855920&from_beach_sr=1&from=searchresults#hotelTmpl', 43.12415, 6.351192, \"SELECT'SO HOME - Résidence Le Poséidon - Mazet en Duplex - Prestations de qualité & Services Hôteliers - POS-A is located in Bormes-les-Mimosas, 1.5 km from Pointe de Gouron Beach, 1.5 km from Plage...\", \"SELECT'SO HOME - Résidenc\"), (243, 'montauban', 'Le Point Virgule - Parking Privé - Climatisation', 8.3, 'https://www.booking.com/hotel/fr/le-point-g-parking-prive-climatisation.en-gb.html?aid=304142&label=gen173nr-1FCAEoggI46AdIM1gEaE2IAQGYAQm4ARjIAQXYAQ ... (137 characters truncated) ... _rooms=1&group_children=0&req_children=0&hpos=25&hapos=25&sr_order=popularity&srpvid=9b58511724300247&srepoch=1675855920&from=searchresults#hotelTmpl', 44.0222542, 1.3591126, 'Le Point Virgule - Parking Privé - Climatisation is located in Montauban. Guests benefit from private parking available on site and free WiFi. ', 'Le Point Virgule - Parkin'), (244, 'aix en provence', \"Campanile Aix-en-Provence Sud - Pont de l'Arc\", 7.3, 'https://www.booking.com/hotel/fr/campanile-aix-en-provence-sud.en-gb.html?aid=304142&label=gen173nr-1FCAEoggI46AdIM1gEaE2IAQGYAQm4ARjIAQXYAQHoAQH4AQO ... (159 characters truncated) ... hildren=0&hpos=25&hapos=25&sr_order=popularity&srpvid=aec85118436d0300&srepoch=1675855921&from_sustainable_property_sr=1&from=searchresults#hotelTmpl', 43.51191632, 5.43665394, \"Located in Aix-en-Provence, 3 km from the historical centre and Cours Mirabeau, Campanile Aix-en-Provence Sud - Pont de l'Arc offers air-conditioned rooms with free WiFi. \", 'Located in Aix-en-Provenc'), (245, 'marseille', 'Beautiful flat with balcony in the heart of Marseille - Welkeys', 7.1, 'https://www.booking.com/hotel/fr/beautiful-flat-with-balcony-in-the-heart-of-marseille-welkeys.en-gb.html?aid=304142&label=gen173nr-1FCAEoggI46AdIM1g ... (160 characters truncated) ... _rooms=1&group_children=0&req_children=0&hpos=25&hapos=25&sr_order=popularity&srpvid=8106511854030026&srepoch=1675855921&from=searchresults#hotelTmpl', 43.2971687, 5.3819365, 'Right in the centre of Marseille, set within a short distance of Vieux Port Metro station and Marseille Saint-Charles Train Station, Beautiful flat with balcony in the heart of Marseille - Welkeys...', 'Right in the centre of Ma')  ... displaying 10 of 875 total bound parameter sets ...  (1357, 'la rochelle', \"Hôtel de l'Océan\", 8.1, 'https://www.booking.com/hotel/fr/de-l-ocean-la-rochelle.en-gb.html?aid=304142&label=gen173nr-1FCAEoggI46AdIM1gEaE2IAQGYAQm4ARjIAQXYAQHoAQH4AQOIAgGoAg ... (121 characters truncated) ... _rooms=1&group_children=0&req_children=0&hpos=18&hapos=18&sr_order=popularity&srpvid=492352eee57a01e3&srepoch=1675856862&from=searchresults#hotelTmpl', 46.15701983, -1.15412772, 'Built in 1646, Hotel de L’Ocean is located on the Old Port, in the heart of La Rochelle. It offers soundproofed rooms equipped with air-conditioning and free Wi-Fi. ', 'Built in 1646, Hotel de L'), (1358, 'la rochelle', \"L'Atelier\", 8.1, 'https://www.booking.com/hotel/fr/roseo.en-gb.html?aid=304142&label=gen173nr-1FCAEoggI46AdIM1gEaE2IAQGYAQm4ARjIAQXYAQHoAQH4AQOIAgGoAgS4ApyQjp8GwAIB0gI ... (104 characters truncated) ... _rooms=1&group_children=0&req_children=0&hpos=17&hapos=17&sr_order=popularity&srpvid=492352eee57a01e3&srepoch=1675856862&from=searchresults#hotelTmpl', 46.16217749, -1.14808498, \"L'Atelier is an apartment located a 7-minute walk from La Rochelle old harbour and 50 metres from the old market. Free WiFi access is provided and free public is possible nearby. \", \"L'Atelier is an apartment\"))\n",
      "2023-02-09 15:57:31,073 INFO sqlalchemy.engine.Engine COMMIT\n"
     ]
    },
    {
     "data": {
      "text/plain": [
       "875"
      ]
     },
     "execution_count": 54,
     "metadata": {},
     "output_type": "execute_result"
    }
   ],
   "source": [
    "# Initializing a sessionmaker to talk to our local database and opening sessions\n",
    "Session = sessionmaker(bind = engine2)\n",
    "session = Session()\n",
    "\n",
    "# Transforming the dataframes to SQL\n",
    "df_meteo.to_sql(\"df_meteo_sql\", engine2)\n",
    "df_booking.to_sql(\"df_booking_sql\", engine2)"
   ]
  },
  {
   "cell_type": "code",
   "execution_count": 57,
   "metadata": {},
   "outputs": [
    {
     "name": "stdout",
     "output_type": "stream",
     "text": [
      "2023-02-09 15:58:54,089 INFO sqlalchemy.engine.Engine SELECT * FROM df_meteo_sql\n",
      "2023-02-09 15:58:54,090 INFO sqlalchemy.engine.Engine [generated in 0.00100s] ()\n",
      "2023-02-09 15:58:54,095 INFO sqlalchemy.engine.Engine SELECT * FROM df_booking_sql\n",
      "2023-02-09 15:58:54,096 INFO sqlalchemy.engine.Engine [generated in 0.00108s] ()\n"
     ]
    }
   ],
   "source": [
    "# Creating 2 statements, extracting all data from both tables\n",
    "selection_meteo = text(\"SELECT * FROM df_meteo_sql\")\n",
    "df_meteo = pd.read_sql(selection_meteo, engine2)\n",
    "\n",
    "selection_booking = text(\"SELECT * FROM df_booking_sql\")\n",
    "df_booking = pd.read_sql(selection_booking, engine2)"
   ]
  }
 ],
 "metadata": {
  "kernelspec": {
   "display_name": "Python 3.9.12 ('base')",
   "language": "python",
   "name": "python3"
  },
  "language_info": {
   "codemirror_mode": {
    "name": "ipython",
    "version": 3
   },
   "file_extension": ".py",
   "mimetype": "text/x-python",
   "name": "python",
   "nbconvert_exporter": "python",
   "pygments_lexer": "ipython3",
   "version": "3.9.13"
  },
  "orig_nbformat": 4,
  "vscode": {
   "interpreter": {
    "hash": "957668f77d739aed3606dc0cb3e6b9836150d21e7c3a979985571ea2faa3bd84"
   }
  }
 },
 "nbformat": 4,
 "nbformat_minor": 2
}
